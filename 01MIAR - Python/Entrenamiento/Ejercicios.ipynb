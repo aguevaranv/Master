{
 "cells": [
  {
   "cell_type": "markdown",
   "id": "cffbcd0e-dc00-4547-ac87-ef95eb5bbb51",
   "metadata": {},
   "source": [
    "# Estudio"
   ]
  },
  {
   "cell_type": "code",
   "execution_count": 1,
   "id": "8ef7d433-2f37-43b7-95ad-5c65b99f39b9",
   "metadata": {},
   "outputs": [],
   "source": [
    "# Your imports HERE !!!!\n",
    "import numpy as np\n",
    "import pandas as pd\n",
    "import matplotlib.pyplot as plt\n",
    "import seaborn as sns"
   ]
  },
  {
   "cell_type": "markdown",
   "id": "0ddfb619-f1e8-4d7f-9bb5-b08686efabf2",
   "metadata": {
    "tags": []
   },
   "source": [
    "### Fibonacci n con lambda"
   ]
  },
  {
   "cell_type": "code",
   "execution_count": 135,
   "id": "9f6f8961-e7d9-413e-91f5-ff8e9a35279a",
   "metadata": {},
   "outputs": [
    {
     "name": "stdout",
     "output_type": "stream",
     "text": [
      "[0, 1, 1, 2, 3, 5, 8, 13, 21, 34, 55, 89, 144, 233, 377, 610, 987, 1597]\n",
      "[0]\n"
     ]
    }
   ],
   "source": [
    "expected_fibo_serie = [0,1,1,2,3,5,8,13,21,34,55,89,144,233,377,610,987,1597]\n",
    "fibo_serie = fibonacci_lambda(len(expected_fibo_serie))\n",
    "fibonacci1 = fibonacci(1)\n",
    "print(fibo_serie)\n",
    "print(fibonacci1)"
   ]
  },
  {
   "cell_type": "code",
   "execution_count": 89,
   "id": "7f9d090c-d087-4694-8249-3e89f5e866cb",
   "metadata": {},
   "outputs": [],
   "source": [
    "from functools import reduce\n",
    "\n",
    "fibonacci_lambda = lambda n: reduce(lambda x,y: x + [x[-1] + x[-2]], range(n-2), [0,1])"
   ]
  },
  {
   "cell_type": "code",
   "execution_count": 129,
   "id": "f6a80cbe-dac7-4f39-806c-bc2574641619",
   "metadata": {},
   "outputs": [],
   "source": [
    "fibonacci = lambda n: [] if n < 1 else [0] if n == 1 else [0, 1] if n == 2 else fibonacci(n-1) + [sum(fibonacci(n-1)[-2:])]\n"
   ]
  },
  {
   "cell_type": "code",
   "execution_count": 130,
   "id": "6124623a-92b5-4a49-ae3d-0d949b8144a2",
   "metadata": {},
   "outputs": [],
   "source": [
    "fibonaccifor = lambda n: [] if n < 1 else [0] if n == 1 else [0, 1] if n == 2 else [fibonaccifor(i-1)[-1] + fibonaccifor(i-2)[-1] for i in range(2, n+1)]\n"
   ]
  },
  {
   "cell_type": "markdown",
   "id": "3168850c-f9bb-4060-b6e3-06813ec86e54",
   "metadata": {},
   "source": [
    "### ver duplicados de un nparray a partir de la segunda ocurrencia"
   ]
  },
  {
   "cell_type": "code",
   "execution_count": 62,
   "id": "bcc96612-dff4-4779-b4df-2595aa235309",
   "metadata": {},
   "outputs": [
    {
     "name": "stdout",
     "output_type": "stream",
     "text": [
      "[False  True  True False False False False False  True False  True  True\n",
      " False False]\n",
      "[False  True  True False False False False False  True False  True  True\n",
      " False False]\n"
     ]
    }
   ],
   "source": [
    "numbers = np.array([4, 4, 4, 3, 8, 1, 9, 6, 1, 5, 9, 4, 0, 2])\n",
    "expected_output = np.array([False, True, True, False, False, False, False, False, True, False, True, True, False, False])\n",
    "output = find_duplicates(numbers)\n",
    "print(output)\n",
    "print(expected_output)"
   ]
  },
  {
   "cell_type": "code",
   "execution_count": 57,
   "id": "76618e23-4928-4040-9f7f-f4b08ff4abb2",
   "metadata": {},
   "outputs": [],
   "source": [
    "# Your solution HERE !!!!\n",
    "def find_duplicates(array):\n",
    "    result = np.full(array.shape[0], True) # hago un array de todos los valores True\n",
    "    _,unique_positions = np.unique(array, return_index = True) # busco todos los valores unique\n",
    "                        # la funcion nos arroja indices de la nueva serie, estos los descartamos\n",
    "    result[unique_positions] = False # coloca false en los indices que son unicos\n",
    "    return result"
   ]
  },
  {
   "cell_type": "markdown",
   "id": "93e1a9cd-ee85-48b0-b5e5-3d37aeeddb6e",
   "metadata": {
    "tags": []
   },
   "source": [
    "### Ecuaciones\n",
    "\n",
    "    - A : -9x +  4y = 20           7y + 16x = 80              "
   ]
  },
  {
   "cell_type": "code",
   "execution_count": 7,
   "id": "bbcc2811-859f-4023-bdbd-298750502ead",
   "metadata": {},
   "outputs": [
    {
     "name": "stdout",
     "output_type": "stream",
     "text": [
      "x=460.0 y=1040.0\n",
      "True\n",
      "True\n"
     ]
    }
   ],
   "source": [
    "# Your solution HERE !!!!\n",
    "import math\n",
    "\n",
    "a = np.array([[-9,4], [16, -7]])\n",
    "b = np.array([20, 80])\n",
    "x,y = np.linalg.solve(a,b)\n",
    "print(f\"x={x} y={y}\")\n",
    "\n",
    "print(math.isclose(-9*x + 4*y, 20))\n",
    "print(math.isclose(-7*y + 16*x, 80))"
   ]
  },
  {
   "cell_type": "markdown",
   "id": "16e6f16e-eec0-404f-b409-5acfc675df17",
   "metadata": {
    "tags": []
   },
   "source": [
    "### Ecuaciones\n",
    "\n",
    "    - B : x - 2y + 3z = 7 \\\\ 2x + y + z = 4 \\\\ -3x + 2y -2z = -10"
   ]
  },
  {
   "cell_type": "code",
   "execution_count": 68,
   "id": "d7215e47-9de2-4b9c-b82e-fcbfbff51ea9",
   "metadata": {},
   "outputs": [
    {
     "name": "stdout",
     "output_type": "stream",
     "text": [
      "Solución:\n",
      "x = 2.0\n",
      "y = -1.0\n",
      "z = 1.0\n"
     ]
    }
   ],
   "source": [
    "# Your solution HERE !!!!\n",
    "# Definir los coeficientes del sistema de ecuaciones\n",
    "coefficients = np.array([[1, -2, 3], [2, 1, 1], [-3, 2, -2]])\n",
    "constants = np.array([7, 4, -10])\n",
    "\n",
    "# Resolver el sistema de ecuaciones\n",
    "solution = np.linalg.solve(coefficients, constants)\n",
    "\n",
    "# Imprimir la solución\n",
    "print(\"Solución:\")\n",
    "print(\"x =\", solution[0])\n",
    "print(\"y =\", solution[1])\n",
    "print(\"z =\", solution[2])\n"
   ]
  },
  {
   "cell_type": "markdown",
   "id": "655fe747-7f14-42dd-8a9a-6b532517bede",
   "metadata": {
    "tags": []
   },
   "source": [
    "### Datos se pueden acceder con indices pisicionales o semanticos"
   ]
  },
  {
   "cell_type": "code",
   "execution_count": 69,
   "id": "ce7f3e5d-781e-49f5-9ab8-f8e6593ab327",
   "metadata": {},
   "outputs": [
    {
     "data": {
      "text/plain": [
       "a    True\n",
       "b    True\n",
       "c    True\n",
       "d    True\n",
       "e    True\n",
       "dtype: bool"
      ]
     },
     "execution_count": 69,
     "metadata": {},
     "output_type": "execute_result"
    }
   ],
   "source": [
    "# Your solution HERE !!!!\n",
    "\n",
    "serie = pd.Series([1,2,3,4,5,6,7,8,'Manolo',True], index=list('abcdefghij')) #crea serie con indices string\n",
    "serie.loc[:'e'] == serie.iloc[:5] # comparo los primeros 5 valores"
   ]
  },
  {
   "cell_type": "markdown",
   "id": "3f12a152-8257-491a-9b2f-270607831cc0",
   "metadata": {
    "tags": []
   },
   "source": [
    "### Reemplazo por nulos"
   ]
  },
  {
   "cell_type": "code",
   "execution_count": 71,
   "id": "e6c62f70-14cb-446c-86eb-5428f36f627f",
   "metadata": {},
   "outputs": [
    {
     "data": {
      "text/html": [
       "<div>\n",
       "<style scoped>\n",
       "    .dataframe tbody tr th:only-of-type {\n",
       "        vertical-align: middle;\n",
       "    }\n",
       "\n",
       "    .dataframe tbody tr th {\n",
       "        vertical-align: top;\n",
       "    }\n",
       "\n",
       "    .dataframe thead th {\n",
       "        text-align: right;\n",
       "    }\n",
       "</style>\n",
       "<table border=\"1\" class=\"dataframe\">\n",
       "  <thead>\n",
       "    <tr style=\"text-align: right;\">\n",
       "      <th></th>\n",
       "      <th>0</th>\n",
       "      <th>1</th>\n",
       "      <th>2</th>\n",
       "      <th>3</th>\n",
       "      <th>4</th>\n",
       "      <th>5</th>\n",
       "      <th>6</th>\n",
       "      <th>7</th>\n",
       "      <th>8</th>\n",
       "      <th>9</th>\n",
       "    </tr>\n",
       "  </thead>\n",
       "  <tbody>\n",
       "    <tr>\n",
       "      <th>0</th>\n",
       "      <td>15</td>\n",
       "      <td>14</td>\n",
       "      <td>13</td>\n",
       "      <td>11</td>\n",
       "      <td>8</td>\n",
       "      <td>11</td>\n",
       "      <td>7</td>\n",
       "      <td>12</td>\n",
       "      <td>0</td>\n",
       "      <td>16</td>\n",
       "    </tr>\n",
       "    <tr>\n",
       "      <th>1</th>\n",
       "      <td>6</td>\n",
       "      <td>5</td>\n",
       "      <td>15</td>\n",
       "      <td>0</td>\n",
       "      <td>2</td>\n",
       "      <td>7</td>\n",
       "      <td>10</td>\n",
       "      <td>4</td>\n",
       "      <td>18</td>\n",
       "      <td>12</td>\n",
       "    </tr>\n",
       "    <tr>\n",
       "      <th>2</th>\n",
       "      <td>14</td>\n",
       "      <td>14</td>\n",
       "      <td>11</td>\n",
       "      <td>1</td>\n",
       "      <td>5</td>\n",
       "      <td>5</td>\n",
       "      <td>1</td>\n",
       "      <td>16</td>\n",
       "      <td>5</td>\n",
       "      <td>19</td>\n",
       "    </tr>\n",
       "    <tr>\n",
       "      <th>3</th>\n",
       "      <td>19</td>\n",
       "      <td>9</td>\n",
       "      <td>10</td>\n",
       "      <td>3</td>\n",
       "      <td>17</td>\n",
       "      <td>11</td>\n",
       "      <td>8</td>\n",
       "      <td>15</td>\n",
       "      <td>6</td>\n",
       "      <td>12</td>\n",
       "    </tr>\n",
       "    <tr>\n",
       "      <th>4</th>\n",
       "      <td>7</td>\n",
       "      <td>0</td>\n",
       "      <td>18</td>\n",
       "      <td>1</td>\n",
       "      <td>16</td>\n",
       "      <td>1</td>\n",
       "      <td>19</td>\n",
       "      <td>0</td>\n",
       "      <td>1</td>\n",
       "      <td>1</td>\n",
       "    </tr>\n",
       "    <tr>\n",
       "      <th>5</th>\n",
       "      <td>15</td>\n",
       "      <td>1</td>\n",
       "      <td>2</td>\n",
       "      <td>2</td>\n",
       "      <td>11</td>\n",
       "      <td>5</td>\n",
       "      <td>18</td>\n",
       "      <td>1</td>\n",
       "      <td>1</td>\n",
       "      <td>16</td>\n",
       "    </tr>\n",
       "    <tr>\n",
       "      <th>6</th>\n",
       "      <td>5</td>\n",
       "      <td>7</td>\n",
       "      <td>18</td>\n",
       "      <td>2</td>\n",
       "      <td>14</td>\n",
       "      <td>15</td>\n",
       "      <td>14</td>\n",
       "      <td>8</td>\n",
       "      <td>4</td>\n",
       "      <td>11</td>\n",
       "    </tr>\n",
       "    <tr>\n",
       "      <th>7</th>\n",
       "      <td>7</td>\n",
       "      <td>11</td>\n",
       "      <td>17</td>\n",
       "      <td>17</td>\n",
       "      <td>12</td>\n",
       "      <td>14</td>\n",
       "      <td>19</td>\n",
       "      <td>9</td>\n",
       "      <td>10</td>\n",
       "      <td>17</td>\n",
       "    </tr>\n",
       "    <tr>\n",
       "      <th>8</th>\n",
       "      <td>1</td>\n",
       "      <td>16</td>\n",
       "      <td>6</td>\n",
       "      <td>14</td>\n",
       "      <td>3</td>\n",
       "      <td>6</td>\n",
       "      <td>3</td>\n",
       "      <td>4</td>\n",
       "      <td>5</td>\n",
       "      <td>1</td>\n",
       "    </tr>\n",
       "    <tr>\n",
       "      <th>9</th>\n",
       "      <td>16</td>\n",
       "      <td>13</td>\n",
       "      <td>4</td>\n",
       "      <td>1</td>\n",
       "      <td>13</td>\n",
       "      <td>16</td>\n",
       "      <td>5</td>\n",
       "      <td>19</td>\n",
       "      <td>8</td>\n",
       "      <td>14</td>\n",
       "    </tr>\n",
       "  </tbody>\n",
       "</table>\n",
       "</div>"
      ],
      "text/plain": [
       "    0   1   2   3   4   5   6   7   8   9\n",
       "0  15  14  13  11   8  11   7  12   0  16\n",
       "1   6   5  15   0   2   7  10   4  18  12\n",
       "2  14  14  11   1   5   5   1  16   5  19\n",
       "3  19   9  10   3  17  11   8  15   6  12\n",
       "4   7   0  18   1  16   1  19   0   1   1\n",
       "5  15   1   2   2  11   5  18   1   1  16\n",
       "6   5   7  18   2  14  15  14   8   4  11\n",
       "7   7  11  17  17  12  14  19   9  10  17\n",
       "8   1  16   6  14   3   6   3   4   5   1\n",
       "9  16  13   4   1  13  16   5  19   8  14"
      ]
     },
     "metadata": {},
     "output_type": "display_data"
    },
    {
     "data": {
      "text/html": [
       "<div>\n",
       "<style scoped>\n",
       "    .dataframe tbody tr th:only-of-type {\n",
       "        vertical-align: middle;\n",
       "    }\n",
       "\n",
       "    .dataframe tbody tr th {\n",
       "        vertical-align: top;\n",
       "    }\n",
       "\n",
       "    .dataframe thead th {\n",
       "        text-align: right;\n",
       "    }\n",
       "</style>\n",
       "<table border=\"1\" class=\"dataframe\">\n",
       "  <thead>\n",
       "    <tr style=\"text-align: right;\">\n",
       "      <th></th>\n",
       "      <th>0</th>\n",
       "      <th>1</th>\n",
       "      <th>2</th>\n",
       "      <th>3</th>\n",
       "      <th>4</th>\n",
       "      <th>5</th>\n",
       "      <th>6</th>\n",
       "      <th>7</th>\n",
       "      <th>8</th>\n",
       "      <th>9</th>\n",
       "    </tr>\n",
       "  </thead>\n",
       "  <tbody>\n",
       "    <tr>\n",
       "      <th>0</th>\n",
       "      <td>15.0</td>\n",
       "      <td>14.0</td>\n",
       "      <td>13.0</td>\n",
       "      <td>11.0</td>\n",
       "      <td>8.0</td>\n",
       "      <td>11.0</td>\n",
       "      <td>7.0</td>\n",
       "      <td>12.0</td>\n",
       "      <td>NaN</td>\n",
       "      <td>16.0</td>\n",
       "    </tr>\n",
       "    <tr>\n",
       "      <th>1</th>\n",
       "      <td>6.0</td>\n",
       "      <td>5.0</td>\n",
       "      <td>15.0</td>\n",
       "      <td>NaN</td>\n",
       "      <td>NaN</td>\n",
       "      <td>7.0</td>\n",
       "      <td>10.0</td>\n",
       "      <td>NaN</td>\n",
       "      <td>18.0</td>\n",
       "      <td>12.0</td>\n",
       "    </tr>\n",
       "    <tr>\n",
       "      <th>2</th>\n",
       "      <td>14.0</td>\n",
       "      <td>14.0</td>\n",
       "      <td>11.0</td>\n",
       "      <td>NaN</td>\n",
       "      <td>5.0</td>\n",
       "      <td>5.0</td>\n",
       "      <td>NaN</td>\n",
       "      <td>16.0</td>\n",
       "      <td>5.0</td>\n",
       "      <td>19.0</td>\n",
       "    </tr>\n",
       "    <tr>\n",
       "      <th>3</th>\n",
       "      <td>19.0</td>\n",
       "      <td>9.0</td>\n",
       "      <td>10.0</td>\n",
       "      <td>NaN</td>\n",
       "      <td>17.0</td>\n",
       "      <td>11.0</td>\n",
       "      <td>8.0</td>\n",
       "      <td>15.0</td>\n",
       "      <td>6.0</td>\n",
       "      <td>12.0</td>\n",
       "    </tr>\n",
       "    <tr>\n",
       "      <th>4</th>\n",
       "      <td>7.0</td>\n",
       "      <td>NaN</td>\n",
       "      <td>18.0</td>\n",
       "      <td>NaN</td>\n",
       "      <td>16.0</td>\n",
       "      <td>NaN</td>\n",
       "      <td>19.0</td>\n",
       "      <td>NaN</td>\n",
       "      <td>NaN</td>\n",
       "      <td>NaN</td>\n",
       "    </tr>\n",
       "    <tr>\n",
       "      <th>5</th>\n",
       "      <td>15.0</td>\n",
       "      <td>NaN</td>\n",
       "      <td>NaN</td>\n",
       "      <td>NaN</td>\n",
       "      <td>11.0</td>\n",
       "      <td>5.0</td>\n",
       "      <td>18.0</td>\n",
       "      <td>NaN</td>\n",
       "      <td>NaN</td>\n",
       "      <td>16.0</td>\n",
       "    </tr>\n",
       "    <tr>\n",
       "      <th>6</th>\n",
       "      <td>5.0</td>\n",
       "      <td>7.0</td>\n",
       "      <td>18.0</td>\n",
       "      <td>NaN</td>\n",
       "      <td>14.0</td>\n",
       "      <td>15.0</td>\n",
       "      <td>14.0</td>\n",
       "      <td>8.0</td>\n",
       "      <td>NaN</td>\n",
       "      <td>11.0</td>\n",
       "    </tr>\n",
       "    <tr>\n",
       "      <th>7</th>\n",
       "      <td>7.0</td>\n",
       "      <td>11.0</td>\n",
       "      <td>17.0</td>\n",
       "      <td>17.0</td>\n",
       "      <td>12.0</td>\n",
       "      <td>14.0</td>\n",
       "      <td>19.0</td>\n",
       "      <td>9.0</td>\n",
       "      <td>10.0</td>\n",
       "      <td>17.0</td>\n",
       "    </tr>\n",
       "    <tr>\n",
       "      <th>8</th>\n",
       "      <td>NaN</td>\n",
       "      <td>16.0</td>\n",
       "      <td>6.0</td>\n",
       "      <td>14.0</td>\n",
       "      <td>NaN</td>\n",
       "      <td>6.0</td>\n",
       "      <td>NaN</td>\n",
       "      <td>NaN</td>\n",
       "      <td>5.0</td>\n",
       "      <td>NaN</td>\n",
       "    </tr>\n",
       "    <tr>\n",
       "      <th>9</th>\n",
       "      <td>16.0</td>\n",
       "      <td>13.0</td>\n",
       "      <td>NaN</td>\n",
       "      <td>NaN</td>\n",
       "      <td>13.0</td>\n",
       "      <td>16.0</td>\n",
       "      <td>5.0</td>\n",
       "      <td>19.0</td>\n",
       "      <td>8.0</td>\n",
       "      <td>14.0</td>\n",
       "    </tr>\n",
       "  </tbody>\n",
       "</table>\n",
       "</div>"
      ],
      "text/plain": [
       "      0     1     2     3     4     5     6     7     8     9\n",
       "0  15.0  14.0  13.0  11.0   8.0  11.0   7.0  12.0   NaN  16.0\n",
       "1   6.0   5.0  15.0   NaN   NaN   7.0  10.0   NaN  18.0  12.0\n",
       "2  14.0  14.0  11.0   NaN   5.0   5.0   NaN  16.0   5.0  19.0\n",
       "3  19.0   9.0  10.0   NaN  17.0  11.0   8.0  15.0   6.0  12.0\n",
       "4   7.0   NaN  18.0   NaN  16.0   NaN  19.0   NaN   NaN   NaN\n",
       "5  15.0   NaN   NaN   NaN  11.0   5.0  18.0   NaN   NaN  16.0\n",
       "6   5.0   7.0  18.0   NaN  14.0  15.0  14.0   8.0   NaN  11.0\n",
       "7   7.0  11.0  17.0  17.0  12.0  14.0  19.0   9.0  10.0  17.0\n",
       "8   NaN  16.0   6.0  14.0   NaN   6.0   NaN   NaN   5.0   NaN\n",
       "9  16.0  13.0   NaN   NaN  13.0  16.0   5.0  19.0   8.0  14.0"
      ]
     },
     "metadata": {},
     "output_type": "display_data"
    },
    {
     "name": "stdout",
     "output_type": "stream",
     "text": [
      "0    1\n",
      "1    3\n",
      "2    2\n",
      "3    1\n",
      "4    6\n",
      "5    5\n",
      "6    2\n",
      "7    0\n",
      "8    5\n",
      "9    2\n",
      "dtype: int64\n"
     ]
    }
   ],
   "source": [
    "# Your solution HERE !!!!\n",
    "frame = pd.DataFrame(np.random.randint(20, size=(10,10))) #creo df random [0-20]de 10x10\n",
    "display(frame)\n",
    "frame[frame<5]=np.nan # reemplazo valores menores que 5 por NaN\n",
    "display(frame)\n",
    "print(frame.isnull().sum(axis=1)) # averiguo cuantos NaN hay por fila"
   ]
  },
  {
   "cell_type": "markdown",
   "id": "8ba8d87a-190e-48ab-9235-04d875ef994e",
   "metadata": {
    "tags": []
   },
   "source": [
    "### DataFrame sin los elementos duplicados"
   ]
  },
  {
   "cell_type": "code",
   "execution_count": 72,
   "id": "18d7bb34-b613-497e-b59b-aca2ec09863d",
   "metadata": {},
   "outputs": [
    {
     "data": {
      "text/html": [
       "<div>\n",
       "<style scoped>\n",
       "    .dataframe tbody tr th:only-of-type {\n",
       "        vertical-align: middle;\n",
       "    }\n",
       "\n",
       "    .dataframe tbody tr th {\n",
       "        vertical-align: top;\n",
       "    }\n",
       "\n",
       "    .dataframe thead th {\n",
       "        text-align: right;\n",
       "    }\n",
       "</style>\n",
       "<table border=\"1\" class=\"dataframe\">\n",
       "  <thead>\n",
       "    <tr style=\"text-align: right;\">\n",
       "      <th></th>\n",
       "      <th>0</th>\n",
       "    </tr>\n",
       "  </thead>\n",
       "  <tbody>\n",
       "    <tr>\n",
       "      <th>0</th>\n",
       "      <td>a</td>\n",
       "    </tr>\n",
       "    <tr>\n",
       "      <th>1</th>\n",
       "      <td>b</td>\n",
       "    </tr>\n",
       "    <tr>\n",
       "      <th>2</th>\n",
       "      <td>c</td>\n",
       "    </tr>\n",
       "    <tr>\n",
       "      <th>3</th>\n",
       "      <td>g</td>\n",
       "    </tr>\n",
       "  </tbody>\n",
       "</table>\n",
       "</div>"
      ],
      "text/plain": [
       "   0\n",
       "0  a\n",
       "1  b\n",
       "2  c\n",
       "3  g"
      ]
     },
     "execution_count": 72,
     "metadata": {},
     "output_type": "execute_result"
    }
   ],
   "source": [
    "serie = ['b','a','c','a','c','a','g']\n",
    "expected_output = pd.DataFrame(['a','b','c','g'])\n",
    "output = pd.DataFrame(np.unique(serie))   # Elimina duplicados\n",
    "output"
   ]
  },
  {
   "cell_type": "markdown",
   "id": "eb52b109-d2f2-4d8a-b81d-babd5d44f2a9",
   "metadata": {
    "tags": []
   },
   "source": [
    "### Generador infinito de números de Fibonacci."
   ]
  },
  {
   "cell_type": "code",
   "execution_count": 75,
   "id": "7d6520cc-3253-499d-909a-d3573c38fd41",
   "metadata": {},
   "outputs": [
    {
     "name": "stdout",
     "output_type": "stream",
     "text": [
      "[0, 1, 1, 2, 3, 5, 8, 13, 21, 34, 55, 89, 144, 233, 377, 610, 987, 1597]\n",
      "[0, 1, 1, 2, 3, 5, 8, 13, 21, 34, 55, 89, 144, 233, 377, 610, 987, 1597]\n"
     ]
    }
   ],
   "source": [
    "fibo = [0,1,1,2,3,5,8,13,21,34,55,89,144,233,377,610,987,1597]\n",
    "g = fibonacci_generator()  # generador de serie fibonacci\n",
    "expected_output = [next(g) for n in range(len(fibo))]\n",
    "print(fibo)\n",
    "print(expected_output)\n"
   ]
  },
  {
   "cell_type": "code",
   "execution_count": 20,
   "id": "9d395c62-a894-48ce-990b-cf60d34ec065",
   "metadata": {},
   "outputs": [],
   "source": [
    "# Your solution HERE !!!!\n",
    "def fibonacci_generator():\n",
    "    n_2 = 0\n",
    "    n_1 = 1\n",
    "    while True:\n",
    "        yield n_2\n",
    "        n_2, n_1 = n_1, n_2 + n_1    "
   ]
  },
  {
   "cell_type": "markdown",
   "id": "ae093f1d-b4e5-4ac3-a0a8-c6aecb8a084d",
   "metadata": {
    "tags": []
   },
   "source": [
    "### Reemplazo de los espacios en blanco por el carácter menos frecuente en dicha serie."
   ]
  },
  {
   "cell_type": "code",
   "execution_count": 82,
   "id": "02390a36-6e74-4e34-b46a-e1612771863e",
   "metadata": {},
   "outputs": [
    {
     "name": "stdout",
     "output_type": "stream",
     "text": [
      "b    7\n",
      "a    7\n",
      "     3\n",
      "c    3\n",
      "f    2\n",
      "e    1\n",
      "dtype: int64\n",
      "b    7\n",
      "a    7\n",
      "e    4\n",
      "c    3\n",
      "f    2\n",
      "dtype: int64\n"
     ]
    }
   ],
   "source": [
    "serie = pd.Series(list('bba cabc faabba aacbbfe'))\n",
    "expected_output = pd.Series(list('bbaecabcefaabbaeaacbbfe'))\n",
    "output = clean_whitespace_replace(serie) "
   ]
  },
  {
   "cell_type": "code",
   "execution_count": 84,
   "id": "0472c9a4-ce23-42e2-9090-ee4695d6057a",
   "metadata": {},
   "outputs": [],
   "source": [
    "# Your solution HERE !!!!\n",
    "\n",
    "def clean_whitespace_replace(serie):\n",
    "    less_freq = serie.value_counts().index[-1]\n",
    "                                        # value_counts() valores unicos como indices y frecuencias como valores ord desc\n",
    "                                        # index devuelve indices\n",
    "                                        # index[-1] escoge el valor con menos ocurrencias - lista descendente\n",
    "    print(serie.value_counts())\n",
    "    serie[serie==' ']= less_freq # reemplazo espacios por el caracter con menos ocurrencias\n",
    "    print(serie.value_counts())\n",
    "    return serie"
   ]
  },
  {
   "cell_type": "code",
   "execution_count": null,
   "id": "56c990ae-c7d0-47fd-886f-e25f522030ec",
   "metadata": {},
   "outputs": [],
   "source": []
  }
 ],
 "metadata": {
  "kernelspec": {
   "display_name": "Python 3 (ipykernel)",
   "language": "python",
   "name": "python3"
  },
  "language_info": {
   "codemirror_mode": {
    "name": "ipython",
    "version": 3
   },
   "file_extension": ".py",
   "mimetype": "text/x-python",
   "name": "python",
   "nbconvert_exporter": "python",
   "pygments_lexer": "ipython3",
   "version": "3.9.12"
  }
 },
 "nbformat": 4,
 "nbformat_minor": 5
}

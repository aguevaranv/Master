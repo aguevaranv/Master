{
 "cells": [
  {
   "cell_type": "markdown",
   "id": "43115e44-f75d-465a-ad62-9b2be737a6e6",
   "metadata": {},
   "source": [
    "# Estudio 2"
   ]
  },
  {
   "cell_type": "code",
   "execution_count": 1,
   "id": "eb8ba270-b03c-49f8-b092-8de37baa3bfe",
   "metadata": {},
   "outputs": [],
   "source": [
    "# Your imports HERE !!!!\n",
    "import numpy as np\n",
    "import pandas as pd\n",
    "import matplotlib.pyplot as plt"
   ]
  },
  {
   "cell_type": "markdown",
   "id": "2206adbd-c8e0-4665-a20b-bb6a1503d388",
   "metadata": {
    "tags": []
   },
   "source": [
    "### Elemento repetido Python y lista"
   ]
  },
  {
   "cell_type": "code",
   "execution_count": 4,
   "id": "748595ea-d6b6-4f35-a824-ea3631d7e15a",
   "metadata": {},
   "outputs": [
    {
     "name": "stdout",
     "output_type": "stream",
     "text": [
      "3\n"
     ]
    }
   ],
   "source": [
    "array_src = [4, 8, 0, 3, 6, 2, 1, 5, 3, 9, 7]\n",
    "expected_rep_element = 3\n",
    "rep_element = repeated_element(array_src)\n",
    "print(rep_element)"
   ]
  },
  {
   "cell_type": "code",
   "execution_count": 3,
   "id": "3b6d4855-e751-4f45-8382-1291885aef0c",
   "metadata": {},
   "outputs": [],
   "source": [
    "# Your solution HERE !!!!\n",
    "def repeated_element(array_src):\n",
    "    for element in array_src:\n",
    "        if array_src.count(element) > 1: break # si elemento esta en toda la lista, salir\n",
    "    return element"
   ]
  },
  {
   "cell_type": "markdown",
   "id": "5161decf-e061-44a9-a413-8d3921a10058",
   "metadata": {
    "tags": []
   },
   "source": [
    "### Operaciones por cada fila"
   ]
  },
  {
   "cell_type": "code",
   "execution_count": 6,
   "id": "2e7bfe3c-253f-4287-8d85-fb7e5163e6c0",
   "metadata": {},
   "outputs": [
    {
     "name": "stdout",
     "output_type": "stream",
     "text": [
      "Suma: [684 797 685 781 797 857 730 838 664 743 635 754 843 687 780 887]\n",
      "Media: [42.75   49.8125 42.8125 48.8125 49.8125 53.5625 45.625  52.375  41.5\n",
      " 46.4375 39.6875 47.125  52.6875 42.9375 48.75   55.4375]\n",
      "Mínimo: [ 1 10  4  0  0  0  1 11  0  0  7  0  9  1  3  8]\n",
      "Máximo: [ 97 100  92 100  99  99  97  90  91  79  80  91  98  99  94  98]\n"
     ]
    }
   ],
   "source": [
    "# Your solution HERE !!!!\n",
    "mat = np.random.randint(101, size = (16, 16))\n",
    "suma, media, minimo, maximo = [], [], [], []\n",
    "for element in mat:\n",
    "    suma.append(element.sum()) #agrega un elemento al final de la lista, en este caso la suma\n",
    "    media.append(element.mean())\n",
    "    minimo.append(element.min())\n",
    "    maximo.append(element.max())\n",
    "    \n",
    "print(f'Suma: {np.array(suma)}') \n",
    "print(f'Media: {np.array(media)}') \n",
    "print(f'Mínimo: {np.array(minimo)}') \n",
    "print(f'Máximo: {np.array(maximo)}') "
   ]
  },
  {
   "cell_type": "markdown",
   "id": "9986c32f-299d-4ce7-809e-db01ee851764",
   "metadata": {
    "tags": []
   },
   "source": [
    "- Generar un dataframe de 3x4 dimensiones con valores númericos aleatorios [0,10]\n",
    "- Darle un índice semántico alfanumérico\n",
    "- Aplicarle una función lambda que obtenga la diferencia entre el máximo y mínimo de cada fila"
   ]
  },
  {
   "cell_type": "code",
   "execution_count": 7,
   "id": "18ff9dbf-9ba4-4513-8a73-d0328b689dc9",
   "metadata": {},
   "outputs": [
    {
     "name": "stdout",
     "output_type": "stream",
     "text": [
      "Solución: [10, 5, 9]\n"
     ]
    },
    {
     "data": {
      "text/html": [
       "<div>\n",
       "<style scoped>\n",
       "    .dataframe tbody tr th:only-of-type {\n",
       "        vertical-align: middle;\n",
       "    }\n",
       "\n",
       "    .dataframe tbody tr th {\n",
       "        vertical-align: top;\n",
       "    }\n",
       "\n",
       "    .dataframe thead th {\n",
       "        text-align: right;\n",
       "    }\n",
       "</style>\n",
       "<table border=\"1\" class=\"dataframe\">\n",
       "  <thead>\n",
       "    <tr style=\"text-align: right;\">\n",
       "      <th></th>\n",
       "      <th>A</th>\n",
       "      <th>B</th>\n",
       "      <th>C</th>\n",
       "      <th>D</th>\n",
       "    </tr>\n",
       "  </thead>\n",
       "  <tbody>\n",
       "    <tr>\n",
       "      <th>a</th>\n",
       "      <td>4</td>\n",
       "      <td>10</td>\n",
       "      <td>0</td>\n",
       "      <td>0</td>\n",
       "    </tr>\n",
       "    <tr>\n",
       "      <th>b</th>\n",
       "      <td>9</td>\n",
       "      <td>5</td>\n",
       "      <td>4</td>\n",
       "      <td>6</td>\n",
       "    </tr>\n",
       "    <tr>\n",
       "      <th>c</th>\n",
       "      <td>8</td>\n",
       "      <td>10</td>\n",
       "      <td>8</td>\n",
       "      <td>1</td>\n",
       "    </tr>\n",
       "  </tbody>\n",
       "</table>\n",
       "</div>"
      ],
      "text/plain": [
       "   A   B  C  D\n",
       "a  4  10  0  0\n",
       "b  9   5  4  6\n",
       "c  8  10  8  1"
      ]
     },
     "metadata": {},
     "output_type": "display_data"
    }
   ],
   "source": [
    "# Your solution HERE !!!!\n",
    "df = pd.DataFrame(np.random.randint(11, size = (3, 4)), index = ('a', 'b', 'c'), columns = ('A', 'B', 'C', 'D'))\n",
    "print(f'Solución: {list(map(lambda x: df.loc[x].max() - df.loc[x].min(), df.index))}')\n",
    "display(df)"
   ]
  },
  {
   "cell_type": "markdown",
   "id": "1dc73e21-7283-4cd5-92e8-3a7e1e70fd02",
   "metadata": {
    "tags": []
   },
   "source": [
    "### Matriz aleatoria, reemplazar por nan y contarlos por fila"
   ]
  },
  {
   "cell_type": "code",
   "execution_count": 8,
   "id": "2fd83be4-8626-4eaa-9ead-6f951d5ebbfb",
   "metadata": {},
   "outputs": [
    {
     "data": {
      "text/plain": [
       "array([[ 46, -11, -59,  -6,  30],\n",
       "       [-20, -76,  -1,  -5, -59],\n",
       "       [-17, -55,  25,  41,  83],\n",
       "       [-88,  44,  40,  47,  89],\n",
       "       [-62,  69,  36,   2,  63],\n",
       "       [ 56, -29,  86,   8,  31],\n",
       "       [ 88,  95, -34,  16,   0],\n",
       "       [ -4, -40,  48,  -9, -16]])"
      ]
     },
     "metadata": {},
     "output_type": "display_data"
    }
   ],
   "source": [
    "# Your solution HERE !!!!\n",
    "arr = np.random.randint(-100, 101, size = (8, 5)) #narray aleatorios [-100,100] 8x5\n",
    "display(arr)"
   ]
  },
  {
   "cell_type": "code",
   "execution_count": 9,
   "id": "4fbe6e68",
   "metadata": {},
   "outputs": [
    {
     "data": {
      "text/plain": [
       "array([[ 46, -11, -59,  -6, 100],\n",
       "       [100, -76,  -1, 100, -59],\n",
       "       [-17, 100, 100,  41,  83],\n",
       "       [-88,  44, 100,  47,  89],\n",
       "       [-62,  69,  36,   2,  63],\n",
       "       [ 56, -29,  86,   8,  31],\n",
       "       [ 88, 100, -34,  16, 100],\n",
       "       [ -4, 100,  48,  -9, -16]])"
      ]
     },
     "metadata": {},
     "output_type": "display_data"
    }
   ],
   "source": [
    "arr[arr % 5 == 0] = 100 # reemplazo multiplos de 5 por 100\n",
    "display(arr)"
   ]
  },
  {
   "cell_type": "code",
   "execution_count": 10,
   "id": "8bb3a1cd",
   "metadata": {},
   "outputs": [
    {
     "data": {
      "text/html": [
       "<div>\n",
       "<style scoped>\n",
       "    .dataframe tbody tr th:only-of-type {\n",
       "        vertical-align: middle;\n",
       "    }\n",
       "\n",
       "    .dataframe tbody tr th {\n",
       "        vertical-align: top;\n",
       "    }\n",
       "\n",
       "    .dataframe thead th {\n",
       "        text-align: right;\n",
       "    }\n",
       "</style>\n",
       "<table border=\"1\" class=\"dataframe\">\n",
       "  <thead>\n",
       "    <tr style=\"text-align: right;\">\n",
       "      <th></th>\n",
       "      <th>0</th>\n",
       "      <th>1</th>\n",
       "      <th>2</th>\n",
       "      <th>3</th>\n",
       "      <th>4</th>\n",
       "    </tr>\n",
       "  </thead>\n",
       "  <tbody>\n",
       "    <tr>\n",
       "      <th>0</th>\n",
       "      <td>46</td>\n",
       "      <td>-11</td>\n",
       "      <td>-59</td>\n",
       "      <td>-6</td>\n",
       "      <td>100</td>\n",
       "    </tr>\n",
       "    <tr>\n",
       "      <th>1</th>\n",
       "      <td>100</td>\n",
       "      <td>-76</td>\n",
       "      <td>-1</td>\n",
       "      <td>100</td>\n",
       "      <td>-59</td>\n",
       "    </tr>\n",
       "    <tr>\n",
       "      <th>2</th>\n",
       "      <td>-17</td>\n",
       "      <td>100</td>\n",
       "      <td>100</td>\n",
       "      <td>41</td>\n",
       "      <td>83</td>\n",
       "    </tr>\n",
       "    <tr>\n",
       "      <th>3</th>\n",
       "      <td>-88</td>\n",
       "      <td>44</td>\n",
       "      <td>100</td>\n",
       "      <td>47</td>\n",
       "      <td>89</td>\n",
       "    </tr>\n",
       "    <tr>\n",
       "      <th>4</th>\n",
       "      <td>-62</td>\n",
       "      <td>69</td>\n",
       "      <td>36</td>\n",
       "      <td>2</td>\n",
       "      <td>63</td>\n",
       "    </tr>\n",
       "    <tr>\n",
       "      <th>5</th>\n",
       "      <td>56</td>\n",
       "      <td>-29</td>\n",
       "      <td>86</td>\n",
       "      <td>8</td>\n",
       "      <td>31</td>\n",
       "    </tr>\n",
       "    <tr>\n",
       "      <th>6</th>\n",
       "      <td>88</td>\n",
       "      <td>100</td>\n",
       "      <td>-34</td>\n",
       "      <td>16</td>\n",
       "      <td>100</td>\n",
       "    </tr>\n",
       "    <tr>\n",
       "      <th>7</th>\n",
       "      <td>-4</td>\n",
       "      <td>100</td>\n",
       "      <td>48</td>\n",
       "      <td>-9</td>\n",
       "      <td>-16</td>\n",
       "    </tr>\n",
       "  </tbody>\n",
       "</table>\n",
       "</div>"
      ],
      "text/plain": [
       "     0    1    2    3    4\n",
       "0   46  -11  -59   -6  100\n",
       "1  100  -76   -1  100  -59\n",
       "2  -17  100  100   41   83\n",
       "3  -88   44  100   47   89\n",
       "4  -62   69   36    2   63\n",
       "5   56  -29   86    8   31\n",
       "6   88  100  -34   16  100\n",
       "7   -4  100   48   -9  -16"
      ]
     },
     "metadata": {},
     "output_type": "display_data"
    }
   ],
   "source": [
    "new_arr = pd.DataFrame(arr)\n",
    "display(new_arr)"
   ]
  },
  {
   "cell_type": "code",
   "execution_count": 11,
   "id": "1d0d746b",
   "metadata": {},
   "outputs": [
    {
     "data": {
      "text/html": [
       "<div>\n",
       "<style scoped>\n",
       "    .dataframe tbody tr th:only-of-type {\n",
       "        vertical-align: middle;\n",
       "    }\n",
       "\n",
       "    .dataframe tbody tr th {\n",
       "        vertical-align: top;\n",
       "    }\n",
       "\n",
       "    .dataframe thead th {\n",
       "        text-align: right;\n",
       "    }\n",
       "</style>\n",
       "<table border=\"1\" class=\"dataframe\">\n",
       "  <thead>\n",
       "    <tr style=\"text-align: right;\">\n",
       "      <th></th>\n",
       "      <th>0</th>\n",
       "      <th>1</th>\n",
       "      <th>2</th>\n",
       "      <th>3</th>\n",
       "      <th>4</th>\n",
       "    </tr>\n",
       "  </thead>\n",
       "  <tbody>\n",
       "    <tr>\n",
       "      <th>0</th>\n",
       "      <td>46</td>\n",
       "      <td>-11.0</td>\n",
       "      <td>-59.0</td>\n",
       "      <td>NaN</td>\n",
       "      <td>100.0</td>\n",
       "    </tr>\n",
       "    <tr>\n",
       "      <th>1</th>\n",
       "      <td>100</td>\n",
       "      <td>-76.0</td>\n",
       "      <td>-1.0</td>\n",
       "      <td>100.0</td>\n",
       "      <td>-59.0</td>\n",
       "    </tr>\n",
       "    <tr>\n",
       "      <th>2</th>\n",
       "      <td>-17</td>\n",
       "      <td>100.0</td>\n",
       "      <td>100.0</td>\n",
       "      <td>41.0</td>\n",
       "      <td>83.0</td>\n",
       "    </tr>\n",
       "    <tr>\n",
       "      <th>3</th>\n",
       "      <td>-88</td>\n",
       "      <td>44.0</td>\n",
       "      <td>100.0</td>\n",
       "      <td>47.0</td>\n",
       "      <td>89.0</td>\n",
       "    </tr>\n",
       "    <tr>\n",
       "      <th>4</th>\n",
       "      <td>-62</td>\n",
       "      <td>NaN</td>\n",
       "      <td>NaN</td>\n",
       "      <td>2.0</td>\n",
       "      <td>NaN</td>\n",
       "    </tr>\n",
       "    <tr>\n",
       "      <th>5</th>\n",
       "      <td>56</td>\n",
       "      <td>-29.0</td>\n",
       "      <td>86.0</td>\n",
       "      <td>8.0</td>\n",
       "      <td>31.0</td>\n",
       "    </tr>\n",
       "    <tr>\n",
       "      <th>6</th>\n",
       "      <td>88</td>\n",
       "      <td>100.0</td>\n",
       "      <td>-34.0</td>\n",
       "      <td>16.0</td>\n",
       "      <td>100.0</td>\n",
       "    </tr>\n",
       "    <tr>\n",
       "      <th>7</th>\n",
       "      <td>-4</td>\n",
       "      <td>100.0</td>\n",
       "      <td>NaN</td>\n",
       "      <td>NaN</td>\n",
       "      <td>-16.0</td>\n",
       "    </tr>\n",
       "  </tbody>\n",
       "</table>\n",
       "</div>"
      ],
      "text/plain": [
       "     0      1      2      3      4\n",
       "0   46  -11.0  -59.0    NaN  100.0\n",
       "1  100  -76.0   -1.0  100.0  -59.0\n",
       "2  -17  100.0  100.0   41.0   83.0\n",
       "3  -88   44.0  100.0   47.0   89.0\n",
       "4  -62    NaN    NaN    2.0    NaN\n",
       "5   56  -29.0   86.0    8.0   31.0\n",
       "6   88  100.0  -34.0   16.0  100.0\n",
       "7   -4  100.0    NaN    NaN  -16.0"
      ]
     },
     "metadata": {},
     "output_type": "display_data"
    }
   ],
   "source": [
    "new_arr[new_arr % 3 ==0] = np.nan # reemplazo multiplos de 3 por filas\n",
    "display(new_arr)"
   ]
  },
  {
   "cell_type": "code",
   "execution_count": 12,
   "id": "efefe869",
   "metadata": {},
   "outputs": [
    {
     "data": {
      "text/plain": [
       "0    0\n",
       "1    1\n",
       "2    2\n",
       "3    2\n",
       "4    1\n",
       "dtype: int64"
      ]
     },
     "execution_count": 12,
     "metadata": {},
     "output_type": "execute_result"
    }
   ],
   "source": [
    "new_arr.isna().sum() # cuento numero de nan por filas"
   ]
  },
  {
   "cell_type": "code",
   "execution_count": 13,
   "id": "bea4629a",
   "metadata": {},
   "outputs": [
    {
     "data": {
      "text/plain": [
       "array([[ 46., -11., -59.,   0., 100.],\n",
       "       [100., -76.,  -1., 100., -59.],\n",
       "       [-17., 100., 100.,  41.,  83.],\n",
       "       [-88.,  44., 100.,  47.,  89.],\n",
       "       [-62.,   0.,   0.,   2.,   0.],\n",
       "       [ 56., -29.,  86.,   8.,  31.],\n",
       "       [ 88., 100., -34.,  16., 100.],\n",
       "       [ -4., 100.,   0.,   0., -16.]])"
      ]
     },
     "execution_count": 13,
     "metadata": {},
     "output_type": "execute_result"
    }
   ],
   "source": [
    "np.where(np.isnan(new_arr), 0, new_arr) # where = reemplazo o donde hay nan"
   ]
  },
  {
   "cell_type": "markdown",
   "id": "45fe9b96-168d-4bdc-a472-fb41c9031c0d",
   "metadata": {
    "tags": []
   },
   "source": [
    "### Mayusculas primer y ultimo caracter"
   ]
  },
  {
   "cell_type": "code",
   "execution_count": 7,
   "id": "19fab47f-5fbe-4baa-93af-fc6776d748d1",
   "metadata": {},
   "outputs": [
    {
     "name": "stdout",
     "output_type": "stream",
     "text": [
      "0        PythoN\n",
      "1           PhP\n",
      "2          JavA\n",
      "3    JavascripT\n",
      "4           C++\n",
      "5           SqL\n",
      "dtype: object\n"
     ]
    }
   ],
   "source": [
    "languages = ['python', 'php', 'java', 'javascript', 'c++', 'sql']\n",
    "expected_output = pd.Series(['PythoN', 'PhP', 'JavA', 'JavascripT', 'C++', 'SqL'])\n",
    "output = first_last_uppercase(languages) \n",
    "print (output)"
   ]
  },
  {
   "cell_type": "code",
   "execution_count": 6,
   "id": "b6b5696b-71fd-4dc4-8536-18eb2d69a8fa",
   "metadata": {},
   "outputs": [],
   "source": [
    "# Your solution HERE !!!!\n",
    "def first_last_uppercase(languages):\n",
    "    return pd.Series(map(lambda language: ''.join([language[0].capitalize(), language[1:-1], language[-1].capitalize()]), languages))\n",
    "#map para aplicar una funcion a cada elemento de lenguaje, en este caso lambda\n",
    "# dentro de lamda\n",
    "# language[0].capitalize() #pone en mayuscula la primera letra\n",
    "# language[1:-1] # coje las letras intermedias menos la ultima ni la primera\n",
    "# language[-1].capitalize() # pone en mayuscula la ultima letra\n",
    "# ''.join # concatena sin utilizar espacios"
   ]
  },
  {
   "cell_type": "markdown",
   "id": "2b191602-365c-42d3-81af-f877089f0f20",
   "metadata": {
    "tags": []
   },
   "source": [
    "- Se tienen cuatro datasets, se adjuntan sus datos como diccionarios\n",
    "  - Orders, representa un conjunto de pedidos, con sus fechas, su cantidad, y el cliente y vendedor asociados al mismo\n",
    "  - Customers, conjunto de clientes, con su nombre y su ciudad\n",
    "  - Salesman, conjunto de vendedores, con su nombre, ciudad y porcentaje de comisión por venta\n",
    "  - Cities, conjunto de ciudades con sus nombres\n",
    "- Obtener la siguiente información usando Pandas\n",
    "  - El nombre del vendedor con la mejor venta, y a que cliente ha sido\n",
    "  - Dinero de la comisión otorgada para cada pedido, ordenado por fechas\n",
    "  - Media del dinero de los pedidos de los clientes de Tokyo\n",
    "  - Total del dinero de las comisiones del vendedor Ikuzu Midoriya en el mes de Agosto\n",
    "- Representar graficamente\n",
    "  - Media del total de cada pedido para cada cliente agrupado por ciudad\n",
    "  - Línea temporal del total de los pedidos"
   ]
  },
  {
   "cell_type": "code",
   "execution_count": 10,
   "id": "e14a9877-d29f-49e9-ab82-a8c89dc59081",
   "metadata": {},
   "outputs": [],
   "source": [
    "orders = {'OrderId': [1,2,3,4,5,6], 'OrderDate': ['2021-07-23', '2021-08-06', '2021-07-28', '2021-08-04', '2021-08-03', '2021-07-30'], 'Amount': [1500.5,2000.65,1550.2,1900.75,2205.4, 1208.22], 'CustomerId': [3,4,2,2,1,4], 'SalesmanId': [3,3,2,1,3,2]}\n",
    "customers = {'CustomerId': [1,2,3,4], 'Name': ['Brad Davis', 'Julian Green', 'Geoff Cameron', 'Fabian Johnson'], 'CityId': [2,1,2,3]}\n",
    "salesmans = {'SalesmanId': [1,2,3], 'Name': ['James Knite', 'Reinhardt Wilhelm', 'Ikuzu Midoriya'], 'CityId': [1,3,2], 'Comission': [0.15,0.11,0.09]}\n",
    "cities = {'CityId': [1,2,3], 'Name': ['New York', 'Tokyo', 'Berlin']}"
   ]
  },
  {
   "cell_type": "code",
   "execution_count": 11,
   "id": "95b15246-4019-4073-ae6c-6c32321cb5dd",
   "metadata": {},
   "outputs": [
    {
     "data": {
      "text/html": [
       "<div>\n",
       "<style scoped>\n",
       "    .dataframe tbody tr th:only-of-type {\n",
       "        vertical-align: middle;\n",
       "    }\n",
       "\n",
       "    .dataframe tbody tr th {\n",
       "        vertical-align: top;\n",
       "    }\n",
       "\n",
       "    .dataframe thead th {\n",
       "        text-align: right;\n",
       "    }\n",
       "</style>\n",
       "<table border=\"1\" class=\"dataframe\">\n",
       "  <thead>\n",
       "    <tr style=\"text-align: right;\">\n",
       "      <th></th>\n",
       "      <th>OrderId</th>\n",
       "      <th>OrderDate</th>\n",
       "      <th>Amount</th>\n",
       "      <th>CustomerId</th>\n",
       "      <th>SalesmanId</th>\n",
       "    </tr>\n",
       "  </thead>\n",
       "  <tbody>\n",
       "    <tr>\n",
       "      <th>0</th>\n",
       "      <td>1</td>\n",
       "      <td>2021-07-23</td>\n",
       "      <td>1500.50</td>\n",
       "      <td>3</td>\n",
       "      <td>3</td>\n",
       "    </tr>\n",
       "    <tr>\n",
       "      <th>1</th>\n",
       "      <td>2</td>\n",
       "      <td>2021-08-06</td>\n",
       "      <td>2000.65</td>\n",
       "      <td>4</td>\n",
       "      <td>3</td>\n",
       "    </tr>\n",
       "    <tr>\n",
       "      <th>2</th>\n",
       "      <td>3</td>\n",
       "      <td>2021-07-28</td>\n",
       "      <td>1550.20</td>\n",
       "      <td>2</td>\n",
       "      <td>2</td>\n",
       "    </tr>\n",
       "    <tr>\n",
       "      <th>3</th>\n",
       "      <td>4</td>\n",
       "      <td>2021-08-04</td>\n",
       "      <td>1900.75</td>\n",
       "      <td>2</td>\n",
       "      <td>1</td>\n",
       "    </tr>\n",
       "    <tr>\n",
       "      <th>4</th>\n",
       "      <td>5</td>\n",
       "      <td>2021-08-03</td>\n",
       "      <td>2205.40</td>\n",
       "      <td>1</td>\n",
       "      <td>3</td>\n",
       "    </tr>\n",
       "    <tr>\n",
       "      <th>5</th>\n",
       "      <td>6</td>\n",
       "      <td>2021-07-30</td>\n",
       "      <td>1208.22</td>\n",
       "      <td>4</td>\n",
       "      <td>2</td>\n",
       "    </tr>\n",
       "  </tbody>\n",
       "</table>\n",
       "</div>"
      ],
      "text/plain": [
       "   OrderId   OrderDate   Amount  CustomerId  SalesmanId\n",
       "0        1  2021-07-23  1500.50           3           3\n",
       "1        2  2021-08-06  2000.65           4           3\n",
       "2        3  2021-07-28  1550.20           2           2\n",
       "3        4  2021-08-04  1900.75           2           1\n",
       "4        5  2021-08-03  2205.40           1           3\n",
       "5        6  2021-07-30  1208.22           4           2"
      ]
     },
     "metadata": {},
     "output_type": "display_data"
    }
   ],
   "source": [
    "# Your solution HERE !!!!\n",
    "order_table = pd.DataFrame(orders)\n",
    "display(order_table)"
   ]
  },
  {
   "cell_type": "code",
   "execution_count": 12,
   "id": "0d87fdfe",
   "metadata": {},
   "outputs": [
    {
     "data": {
      "text/html": [
       "<div>\n",
       "<style scoped>\n",
       "    .dataframe tbody tr th:only-of-type {\n",
       "        vertical-align: middle;\n",
       "    }\n",
       "\n",
       "    .dataframe tbody tr th {\n",
       "        vertical-align: top;\n",
       "    }\n",
       "\n",
       "    .dataframe thead th {\n",
       "        text-align: right;\n",
       "    }\n",
       "</style>\n",
       "<table border=\"1\" class=\"dataframe\">\n",
       "  <thead>\n",
       "    <tr style=\"text-align: right;\">\n",
       "      <th></th>\n",
       "      <th>CustomerId</th>\n",
       "      <th>Name</th>\n",
       "      <th>CityId</th>\n",
       "    </tr>\n",
       "  </thead>\n",
       "  <tbody>\n",
       "    <tr>\n",
       "      <th>0</th>\n",
       "      <td>1</td>\n",
       "      <td>Brad Davis</td>\n",
       "      <td>2</td>\n",
       "    </tr>\n",
       "    <tr>\n",
       "      <th>1</th>\n",
       "      <td>2</td>\n",
       "      <td>Julian Green</td>\n",
       "      <td>1</td>\n",
       "    </tr>\n",
       "    <tr>\n",
       "      <th>2</th>\n",
       "      <td>3</td>\n",
       "      <td>Geoff Cameron</td>\n",
       "      <td>2</td>\n",
       "    </tr>\n",
       "    <tr>\n",
       "      <th>3</th>\n",
       "      <td>4</td>\n",
       "      <td>Fabian Johnson</td>\n",
       "      <td>3</td>\n",
       "    </tr>\n",
       "  </tbody>\n",
       "</table>\n",
       "</div>"
      ],
      "text/plain": [
       "   CustomerId            Name  CityId\n",
       "0           1      Brad Davis       2\n",
       "1           2    Julian Green       1\n",
       "2           3   Geoff Cameron       2\n",
       "3           4  Fabian Johnson       3"
      ]
     },
     "metadata": {},
     "output_type": "display_data"
    }
   ],
   "source": [
    "customer_table = pd.DataFrame(customers)\n",
    "display(customer_table)"
   ]
  },
  {
   "cell_type": "code",
   "execution_count": 13,
   "id": "25998ebc",
   "metadata": {},
   "outputs": [
    {
     "data": {
      "text/html": [
       "<div>\n",
       "<style scoped>\n",
       "    .dataframe tbody tr th:only-of-type {\n",
       "        vertical-align: middle;\n",
       "    }\n",
       "\n",
       "    .dataframe tbody tr th {\n",
       "        vertical-align: top;\n",
       "    }\n",
       "\n",
       "    .dataframe thead th {\n",
       "        text-align: right;\n",
       "    }\n",
       "</style>\n",
       "<table border=\"1\" class=\"dataframe\">\n",
       "  <thead>\n",
       "    <tr style=\"text-align: right;\">\n",
       "      <th></th>\n",
       "      <th>SalesmanId</th>\n",
       "      <th>Name</th>\n",
       "      <th>CityId</th>\n",
       "      <th>Comission</th>\n",
       "    </tr>\n",
       "  </thead>\n",
       "  <tbody>\n",
       "    <tr>\n",
       "      <th>0</th>\n",
       "      <td>1</td>\n",
       "      <td>James Knite</td>\n",
       "      <td>1</td>\n",
       "      <td>0.15</td>\n",
       "    </tr>\n",
       "    <tr>\n",
       "      <th>1</th>\n",
       "      <td>2</td>\n",
       "      <td>Reinhardt Wilhelm</td>\n",
       "      <td>3</td>\n",
       "      <td>0.11</td>\n",
       "    </tr>\n",
       "    <tr>\n",
       "      <th>2</th>\n",
       "      <td>3</td>\n",
       "      <td>Ikuzu Midoriya</td>\n",
       "      <td>2</td>\n",
       "      <td>0.09</td>\n",
       "    </tr>\n",
       "  </tbody>\n",
       "</table>\n",
       "</div>"
      ],
      "text/plain": [
       "   SalesmanId               Name  CityId  Comission\n",
       "0           1        James Knite       1       0.15\n",
       "1           2  Reinhardt Wilhelm       3       0.11\n",
       "2           3     Ikuzu Midoriya       2       0.09"
      ]
     },
     "metadata": {},
     "output_type": "display_data"
    }
   ],
   "source": [
    "salesman_table = pd.DataFrame(salesmans)\n",
    "display(salesman_table)"
   ]
  },
  {
   "cell_type": "code",
   "execution_count": 14,
   "id": "6af57857",
   "metadata": {},
   "outputs": [
    {
     "data": {
      "text/html": [
       "<div>\n",
       "<style scoped>\n",
       "    .dataframe tbody tr th:only-of-type {\n",
       "        vertical-align: middle;\n",
       "    }\n",
       "\n",
       "    .dataframe tbody tr th {\n",
       "        vertical-align: top;\n",
       "    }\n",
       "\n",
       "    .dataframe thead th {\n",
       "        text-align: right;\n",
       "    }\n",
       "</style>\n",
       "<table border=\"1\" class=\"dataframe\">\n",
       "  <thead>\n",
       "    <tr style=\"text-align: right;\">\n",
       "      <th></th>\n",
       "      <th>CityId</th>\n",
       "      <th>Name</th>\n",
       "    </tr>\n",
       "  </thead>\n",
       "  <tbody>\n",
       "    <tr>\n",
       "      <th>0</th>\n",
       "      <td>1</td>\n",
       "      <td>New York</td>\n",
       "    </tr>\n",
       "    <tr>\n",
       "      <th>1</th>\n",
       "      <td>2</td>\n",
       "      <td>Tokyo</td>\n",
       "    </tr>\n",
       "    <tr>\n",
       "      <th>2</th>\n",
       "      <td>3</td>\n",
       "      <td>Berlin</td>\n",
       "    </tr>\n",
       "  </tbody>\n",
       "</table>\n",
       "</div>"
      ],
      "text/plain": [
       "   CityId      Name\n",
       "0       1  New York\n",
       "1       2     Tokyo\n",
       "2       3    Berlin"
      ]
     },
     "metadata": {},
     "output_type": "display_data"
    }
   ],
   "source": [
    "city_table = pd.DataFrame(cities)\n",
    "display(city_table)"
   ]
  },
  {
   "cell_type": "code",
   "execution_count": 38,
   "id": "e5c1941e",
   "metadata": {},
   "outputs": [
    {
     "name": "stdout",
     "output_type": "stream",
     "text": [
      "                              CustomerId\n",
      "SalesmanId Amount CustomerId            \n",
      "3          2205.4 1                    1\n",
      "                              CustomerId_ex\n",
      "SalesmanId Amount CustomerId               \n",
      "3          2205.4 1                       1\n",
      "   SalesmanId  Amount  CustomerId  CustomerId_ex\n",
      "0           3  2205.4           1              1\n",
      "El nombre del vendedor con la mejor venta es: ['Ikuzu Midoriya'], al cliente ['Brad Davis']\n"
     ]
    }
   ],
   "source": [
    "# up = t[t['Name'] == 'pepe']['gus'].values[0]\n",
    "vendedor_venta_cliente = pd.DataFrame(order_table.groupby(['SalesmanId', 'Amount']).agg('CustomerId').value_counts()).iloc[-1:]\n",
    "print(vendedor_venta_cliente)\n",
    "vendedor_venta_cliente.rename(columns = {\"CustomerId\":\"CustomerId_ex\"}, inplace = True)\n",
    "print(vendedor_venta_cliente)\n",
    "vendedor_venta_cliente.reset_index(inplace = True)\n",
    "print(vendedor_venta_cliente)\n",
    "vendedor_venta_cliente.drop('CustomerId_ex', axis = 1, inplace = True)\n",
    "name_customer = customer_table[customer_table['CustomerId'].isin(vendedor_venta_cliente['CustomerId'])]['Name'].values\n",
    "name_salesman = salesman_table[salesman_table['SalesmanId'].isin(vendedor_venta_cliente['SalesmanId'])]['Name'].values\n",
    "print(f'El nombre del vendedor con la mejor venta es: {name_salesman}, al cliente {name_customer}')"
   ]
  },
  {
   "cell_type": "code",
   "execution_count": 23,
   "id": "1f9f61a7",
   "metadata": {},
   "outputs": [
    {
     "name": "stdout",
     "output_type": "stream",
     "text": [
      "Media del dinero de los pedidos de los clientes de Tokyo: 1852.95\n"
     ]
    }
   ],
   "source": [
    "city_id_tokyo = city_table[city_table['Name'] == 'Tokyo']['CityId'].values\n",
    "customer_id_tokyo =  customer_table[customer_table['CityId'].isin(city_id_tokyo)]['CustomerId'].values\n",
    "mean_tokyo = order_table[order_table['CustomerId'].isin(customer_id_tokyo)]['Amount'].mean()\n",
    "print(f'Media del dinero de los pedidos de los clientes de Tokyo: {mean_tokyo}')\n"
   ]
  },
  {
   "cell_type": "code",
   "execution_count": 41,
   "id": "feb36b43",
   "metadata": {},
   "outputs": [
    {
     "name": "stdout",
     "output_type": "stream",
     "text": [
      "OrderDate   Amount \n",
      "2021-07-23  1500.50    1\n",
      "2021-08-03  2205.40    1\n",
      "2021-08-06  2000.65    1\n",
      "Name: Amount, dtype: int64\n",
      "Total del dinero de las comisiones del vendedor Ikuzu Midoriya en el mes de Agosto: 4206.05\n"
     ]
    }
   ],
   "source": [
    "ikuzu = salesman_table[salesman_table['Name'] == 'Ikuzu Midoriya']['SalesmanId'].values\n",
    "ikuzu_table = order_table[order_table['SalesmanId'].isin(ikuzu)].groupby('OrderDate').agg('Amount').value_counts()\n",
    "print(ikuzu_table)\n",
    "total = ikuzu_table.index[1][1] + ikuzu_table.index[2][1]\n",
    "print(f'Total del dinero de las comisiones del vendedor Ikuzu Midoriya en el mes de Agosto: {total}')"
   ]
  },
  {
   "cell_type": "markdown",
   "id": "8193738a-9028-4ec5-ba4e-bd9de74c9f1f",
   "metadata": {},
   "source": [
    "frange simula arange"
   ]
  },
  {
   "cell_type": "code",
   "execution_count": 55,
   "id": "bbe212e9-d422-408d-8037-ce6d0e416d25",
   "metadata": {},
   "outputs": [
    {
     "name": "stdout",
     "output_type": "stream",
     "text": [
      "10.6   10.6\n",
      "11.4   11.4\n",
      "12.200000000000001   12.2\n",
      "13.000000000000002   13.0\n",
      "13.800000000000002   13.8\n",
      "14.600000000000003   14.6\n",
      "15.400000000000004   15.4\n",
      "16.200000000000003   16.2\n",
      "17.000000000000004   17.0\n",
      "17.800000000000004   17.8\n"
     ]
    }
   ],
   "source": [
    "init = 10.6\n",
    "step = 0.8\n",
    "g = frange(init, step)\n",
    "\n",
    "iters = 10\n",
    "numbers = [next(g) for n in range(iters)]\n",
    "for i, n in enumerate(numbers):\n",
    "    print(n,  \" \", init + (step * i))  # This will fail if the range is not properly created"
   ]
  },
  {
   "cell_type": "code",
   "execution_count": 46,
   "id": "8092c7c1-c1c8-4492-b08c-489f8767ed73",
   "metadata": {},
   "outputs": [],
   "source": [
    "# Your solution HERE !!!!\n",
    "def frange(init, step):\n",
    "    temp = float(init)\n",
    "    yield temp\n",
    "    while True:\n",
    "        temp = temp + step\n",
    "        yield temp"
   ]
  },
  {
   "cell_type": "markdown",
   "id": "202c6c38-649d-4991-b118-12e6364d8ab0",
   "metadata": {},
   "source": [
    "- Crear una lista de meses de Enero a Diciembre (eje X)\n",
    "- Generar datos aleatorios para el eje Y, hacerlo 3 veces distintas (Y0, Y1 e Y2)\n",
    "- Representar las 3 secuencias de datos aleatorios en una sola figura usando matplotlib\n",
    "- Añadir una leyenda para poder identificar cada secuencia\n",
    "- Nombrar las 3 secuencias de la siguiente manera (\"Facebook\", \"Twitter\", \"Instagram\")\n",
    "- Añadir un título y nombres a los dos ejes\n",
    "- Añadir una anotación (texto y flecha) a uno de los gráficos"
   ]
  },
  {
   "cell_type": "code",
   "execution_count": 54,
   "id": "b0dfefef-66a5-4804-af34-810fcaf25b5e",
   "metadata": {},
   "outputs": [
    {
     "data": {
      "image/png": "[encoded data removed]",
      "text/plain": [
       "<Figure size 432x288 with 1 Axes>"
      ]
     },
     "metadata": {
      "needs_background": "light"
     },
     "output_type": "display_data"
    }
   ],
   "source": [
    "# Your solution HERE !!!!\n",
    "months = ['Enero', 'Febrero', 'Marzo', 'Abril', 'Mayo', 'Junio', 'Julio', 'Agosto', 'Septiembre', 'Octubre', 'Noviembre', 'Diciembre']\n",
    "Y0, Y1, Y2 = [np.random.randint(12, size = (12)) for _ in range(3)]\n",
    "\n",
    "fig, axis = plt.subplots(1,1)\n",
    "\n",
    "axis.plot(months, Y0, label = 'Facebook',)\n",
    "axis.plot(months, Y1, label = 'Twitter')\n",
    "axis.plot(months, Y2, label = 'Instagram')\n",
    "\n",
    "axis.legend(loc = 'best')\n",
    "\n",
    "axis.set_title('Apps data')\n",
    "axis.set_xlabel('Months')\n",
    "axis.set_ylabel('Users')\n",
    "\n",
    "fig.autofmt_xdate()\n",
    "\n",
    "plt.grid()\n",
    "plt.show() \n"
   ]
  }
 ],
 "metadata": {
  "kernelspec": {
   "display_name": "Python 3 (ipykernel)",
   "language": "python",
   "name": "python3"
  },
  "language_info": {
   "codemirror_mode": {
    "name": "ipython",
    "version": 3
   },
   "file_extension": ".py",
   "mimetype": "text/x-python",
   "name": "python",
   "nbconvert_exporter": "python",
   "pygments_lexer": "ipython3",
   "version": "3.9.12"
  },
  "vscode": {
   "interpreter": {
    "hash": "5729e048edb60ed6a0f16d22dbaa05e6b0ba5dbe48621622169cf76b607ac6a8"
   }
  }
 },
 "nbformat": 4,
 "nbformat_minor": 5
}

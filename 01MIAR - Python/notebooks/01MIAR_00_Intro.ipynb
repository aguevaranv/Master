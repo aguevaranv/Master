{
 "cells": [
  {
   "cell_type": "markdown",
   "metadata": {
    "slideshow": {
     "slide_type": "slide"
    }
   },
   "source": [
    "<img src=\"img/viu_logo.png\" width=\"200\">\n",
    "\n",
    "# 01MIAR - Python para Inteligencia Artificial\n",
    "## Presentación de la asignatura\n",
    "\n",
    "![logo](img/python_logo.png)\n",
    "\n",
    "*Ivan Fuertes*\n",
    "\n",
    "*Benjamin Arroquia Cuadros*"
   ]
  },
  {
   "cell_type": "markdown",
   "metadata": {},
   "source": [
    "## Presentación\n",
    "\n",
    "Benjamin Arroquia Cuadros\n",
    "\n",
    "- email - benjamin.arroquia@campusviu.es\n",
    "- discord - https://discord.gg/eaxgzFGm"
   ]
  },
  {
   "cell_type": "markdown",
   "metadata": {
    "slideshow": {
     "slide_type": "subslide"
    }
   },
   "source": [
    "## Objetivos\n",
    "- Diseñar e implementar programas básicos en Python\n",
    "- Conocer cómo desarrollar scripts y Jupyter Notebook\n",
    "- Saber importar y configurar módulos externos comunes en un entorno propio\n",
    "- Familiarización con modulos para análisis de datos (NumPy, pandas, matplotlib)\n",
    "- Conocer las técnicas básicas de análisis de datos\n"
   ]
  },
  {
   "cell_type": "markdown",
   "metadata": {},
   "source": [
    "## Metodología\n",
    "\n",
    "- Clase Expositiva\n",
    "- Actividad en Grupo\n",
    "- Problemas\n",
    "- Foros\n",
    "- Trabajo Autónomo"
   ]
  },
  {
   "cell_type": "markdown",
   "metadata": {},
   "source": [
    "## Sesiones\n",
    "\n",
    "### Horario 20.00 a 22.00 CEST\n",
    "\n",
    "- 20-04-23 - Tutoria Colectiva Presentación\n",
    "- 26-04-23 - VideoConferencia 00\n",
    "- 28-04-23 - VideoConferencia 01\n",
    "- 03-05-23 - VideoConferencia 02\n",
    "- 04-05-23 - VideoConferencia 03\n",
    "- 08-05-23 - VideoConferencia 04\n",
    "- 10-05-23 - VideoConferencia 05\n",
    "- 17-05-23 - VideoConferencia 06\n",
    "- 18-05-23 - VideoConferencia 07\n",
    "- 22-05-23 - VideoConferencia 08\n",
    "- 24-05-23 - VideoConferencia 09\n",
    "- 12-05-23 (18h) - VideoConfernecia 10"
   ]
  },
  {
   "cell_type": "markdown",
   "metadata": {
    "slideshow": {
     "slide_type": "slide"
    }
   },
   "source": [
    "## Recursos de la asignatura\n",
    "- En el aula virtual\n",
    " - Manual de la asignatura en el aula virtual\n",
    " - Jupyter notebooks de las clases\n",
    " - Actividades (descripción y entregas)\n",
    " \n",
    "* Google Drive - https://drive.google.com/drive/folders/1t1NsCrAmBpGLK5ytXO-36TxGW_Jke3HS?usp=share_link"
   ]
  },
  {
   "cell_type": "markdown",
   "metadata": {
    "slideshow": {
     "slide_type": "fragment"
    }
   },
   "source": [
    "- Documentación oficial \n",
    " - Python: https://docs.python.org/3/\n",
    " - NumPy: https://docs.scipy.org/doc/\n",
    " - pandas: https://pandas.pydata.org/index.html\n",
    " - matplotlib: https://matplotlib.org/"
   ]
  },
  {
   "cell_type": "markdown",
   "metadata": {},
   "source": [
    "## Actividades y Entregas\n",
    "\n",
    "\n",
    "|Nombre | Tipo | Entrega | Peso [%]|\n",
    "| ---- | ---- | ---- | ---- |\n",
    "|Análisis y representación |  Portafolio | Informe | 30 |\n",
    "|Video |  Portafolio | Informe | 10 |\n",
    "|Paper |  Portafolio | Informe | 10 |\n",
    "|Foros* |  Portafolio | Entrada en foro | 10 |\n",
    "|Examen |  Examen | Preguntas | 40 |\n",
    "\n",
    "$*$ No disponible en segunda convocatoria.\n",
    "\n",
    "### Primera convocatoria - 02/06/23\n",
    "\n",
    "### Segunda convocatoria - 08/09/23\n",
    "- No hay foro ni actividad de video en segunda convocatoria\n",
    "\n",
    "### Entrega de notebooks a través de las actividades del campus virtual"
   ]
  },
  {
   "cell_type": "markdown",
   "metadata": {
    "slideshow": {
     "slide_type": "slide"
    }
   },
   "source": [
    "## Foros\n",
    "### Introducción\n",
    "- Generar Ideas Nuevas y Llegar a Nuevos Conocimientos\n",
    "- Sentido Crítico y Concluir con Medidas, Soluciones o Nuevos Enfoques\n",
    "- Aportación de o Desarrollo de Temas Relacionando Inteligencia Artificial y el Uso de Herramientas de Programación, en concreto Python\n",
    "- Aportaciones de Referencias\n",
    "\n",
    "## Tema 1\n",
    "- Chatgpt. \n",
    "\n",
    "¿Cómo puede sacarse partido en proyectos en los que se requiere de programación para tratamiento de datos?. \n",
    "\n",
    "¿Qué usos son o podrían ser los más habituales? \n",
    "\n",
    "## Tema 2\n",
    "- Formatos de ficheros para tratamiento de datos tabulados (csv, xls, ...) y el uso en función del volumen o proyecto. \n",
    "\n",
    "¿Cuáles son los más usados y por cuáles podría ser reemplazados? \n",
    " \n",
    "## Tema 3\n",
    "- ¿Por qué Python? Alternativas a Python en la I.A. \n",
    "\n",
    "¿Qué otros lenguajes son utilizados? Casos de uso, de éxito...\n",
    "\n",
    "## Tema 4\n",
    "- Aplicaciónes para Inteligencia Artificial usando Python, \n",
    "\n",
    "casos de éxito en empresa, casos de fracaso, beneficios al trabajar en Python en un proyecto real.\n",
    "\n",
    "## Tema 5\n",
    "- ¿Cómo implementar mejoras en los tiempos de ejecución de scripts de Python para el procesamiento de datos?\n",
    "\n",
    "Exposición de fragmentos de código corto destaclables (snippets) sobre Python básico o de Pandas para el tratamiento de datos. \n",
    " \n",
    "## Evaluación\n",
    "- 10% de la Nota Final\n",
    "- Sólo se Podrá Participar en Primera Convocatoria.\n",
    "- Mínimo para Obtener una Nota Será de Dos Participaciones"
   ]
  },
  {
   "cell_type": "markdown",
   "metadata": {
    "slideshow": {
     "slide_type": "subslide"
    }
   },
   "source": [
    "## Instalación local\n",
    "Se puede optar por las siguientes configuraciones:\n",
    "- Local con Anaconda (tiene jupyter)*\n",
    "- Docker container*\n",
    "- Instalar Python y entorno virtual*\n",
    "- Google colab\n",
    "- IDEs: VSCode, PyCharm...\n",
    "$*$  [Tensorflow requirements](https://www.tensorflow.org/install/pip) Python 3.8 a 3.11 y Keras [Keras requirements](https://keras.io/about/) Python 3.7–3.10"
   ]
  },
  {
   "cell_type": "markdown",
   "metadata": {},
   "source": [
    "### Recomendación\n",
    "1. Instalación Anaconda\n",
    "2. Crear entorno virtual en la carpteta\n",
    "\n",
    "```bash\n",
    "conda deactivate\n",
    "pip install virtualenv\n",
    "virtualenv ./venv\n",
    "source venv/bin/activate\n",
    "pip install --upgrade pip\n",
    "echo \"./venv\" >> .gitignore\n",
    "rm requirements.txt\n",
    "echo \"jupyterlab\" >> requirements.txt\n",
    "echo \"pandas\" >> requirements.txt\n",
    "echo \"seaborn\" >> requirements.txt\n",
    "pip install -r requirements.txt\n",
    "pip freeze > requirements.txt\n",
    "mkdir notebooks notebooks/data\n",
    "\n",
    "```\n",
    "\n",
    "\n",
    "3. Levantar servidor de jupyter\n",
    "\n",
    "```bash\n",
    "jupyter lab --port=10001 --no-browser --ip=0.0.0.0 --allow-root --ServerApp.token=\"01artificial\"\n",
    "```"
   ]
  },
  {
   "cell_type": "markdown",
   "metadata": {
    "slideshow": {
     "slide_type": "slide"
    }
   },
   "source": [
    "## Uso de Jupyter notebook\n",
    "- Presentaciones, ejercicios, actividades... __todo__ notebooks\n",
    "- Markdown/HTML + codigo en vivo\n",
    "- Markdown = https://www.markdownguide.org/\n",
    "- Facilita la colaboración y la presentación interactiva de código\n",
    "- En la terminal: __jupyter notebook__\n",
    "- Archivos _.ipynb_\n",
    "- Documentación https://jupyter.readthedocs.io/en/latest/"
   ]
  },
  {
   "cell_type": "markdown",
   "metadata": {
    "slideshow": {
     "slide_type": "subslide"
    }
   },
   "source": [
    "## Contenidos\n",
    "\n",
    "#### Introducción a la sintaxis de Python 3"
   ]
  },
  {
   "cell_type": "code",
   "execution_count": 1,
   "metadata": {},
   "outputs": [
    {
     "name": "stdout",
     "output_type": "stream",
     "text": [
      "el valor 5 para la variable\n"
     ]
    }
   ],
   "source": [
    "# Hello world!!\n",
    "a = 5\n",
    "print(f\"el valor {a} para la variable\")"
   ]
  },
  {
   "cell_type": "code",
   "execution_count": null,
   "metadata": {
    "slideshow": {
     "slide_type": "fragment"
    }
   },
   "outputs": [
    {
     "name": "stdout",
     "output_type": "stream",
     "text": [
      "[11, 12, 13]\n"
     ]
    }
   ],
   "source": [
    "# funcion para sumar dos elementos\n",
    "def suma(a,b):\n",
    "    return a+b\n",
    "\n",
    "lista = [1,2,3]\n",
    "\n",
    "for i,value in enumerate(lista):\n",
    "    lista[i] = suma(value,10)\n",
    "    \n",
    "print(lista)"
   ]
  },
  {
   "cell_type": "markdown",
   "metadata": {
    "slideshow": {
     "slide_type": "fragment"
    }
   },
   "source": [
    "#### Colecciones\n",
    "\n",
    "#### Uso de librerías fundamentales\n",
    "- NumPy"
   ]
  },
  {
   "cell_type": "code",
   "execution_count": 3,
   "metadata": {
    "slideshow": {
     "slide_type": "fragment"
    }
   },
   "outputs": [
    {
     "data": {
      "text/plain": [
       "array([[ 23, 123],\n",
       "       [145, 165],\n",
       "       [151, 121],\n",
       "       [ 49, 117],\n",
       "       [175, 111],\n",
       "       [199, 120],\n",
       "       [ 88,  34],\n",
       "       [  9,  13],\n",
       "       [ 53, 196],\n",
       "       [ 54,  66]])"
      ]
     },
     "execution_count": 3,
     "metadata": {},
     "output_type": "execute_result"
    }
   ],
   "source": [
    "import numpy as np\n",
    "\n",
    "random_list = np.random.randint(200,size=(10,2))\n",
    "random_list"
   ]
  },
  {
   "cell_type": "markdown",
   "metadata": {
    "slideshow": {
     "slide_type": "subslide"
    }
   },
   "source": [
    "- pandas"
   ]
  },
  {
   "cell_type": "code",
   "execution_count": 4,
   "metadata": {
    "slideshow": {
     "slide_type": "fragment"
    }
   },
   "outputs": [
    {
     "data": {
      "text/html": [
       "<div>\n",
       "<style scoped>\n",
       "    .dataframe tbody tr th:only-of-type {\n",
       "        vertical-align: middle;\n",
       "    }\n",
       "\n",
       "    .dataframe tbody tr th {\n",
       "        vertical-align: top;\n",
       "    }\n",
       "\n",
       "    .dataframe thead th {\n",
       "        text-align: right;\n",
       "    }\n",
       "</style>\n",
       "<table border=\"1\" class=\"dataframe\">\n",
       "  <thead>\n",
       "    <tr style=\"text-align: right;\">\n",
       "      <th></th>\n",
       "      <th>0</th>\n",
       "      <th>1</th>\n",
       "    </tr>\n",
       "  </thead>\n",
       "  <tbody>\n",
       "    <tr>\n",
       "      <th>0</th>\n",
       "      <td>23</td>\n",
       "      <td>123</td>\n",
       "    </tr>\n",
       "    <tr>\n",
       "      <th>1</th>\n",
       "      <td>145</td>\n",
       "      <td>165</td>\n",
       "    </tr>\n",
       "    <tr>\n",
       "      <th>2</th>\n",
       "      <td>151</td>\n",
       "      <td>121</td>\n",
       "    </tr>\n",
       "    <tr>\n",
       "      <th>3</th>\n",
       "      <td>49</td>\n",
       "      <td>117</td>\n",
       "    </tr>\n",
       "    <tr>\n",
       "      <th>4</th>\n",
       "      <td>175</td>\n",
       "      <td>111</td>\n",
       "    </tr>\n",
       "    <tr>\n",
       "      <th>5</th>\n",
       "      <td>199</td>\n",
       "      <td>120</td>\n",
       "    </tr>\n",
       "    <tr>\n",
       "      <th>6</th>\n",
       "      <td>88</td>\n",
       "      <td>34</td>\n",
       "    </tr>\n",
       "    <tr>\n",
       "      <th>7</th>\n",
       "      <td>9</td>\n",
       "      <td>13</td>\n",
       "    </tr>\n",
       "    <tr>\n",
       "      <th>8</th>\n",
       "      <td>53</td>\n",
       "      <td>196</td>\n",
       "    </tr>\n",
       "    <tr>\n",
       "      <th>9</th>\n",
       "      <td>54</td>\n",
       "      <td>66</td>\n",
       "    </tr>\n",
       "  </tbody>\n",
       "</table>\n",
       "</div>"
      ],
      "text/plain": [
       "     0    1\n",
       "0   23  123\n",
       "1  145  165\n",
       "2  151  121\n",
       "3   49  117\n",
       "4  175  111\n",
       "5  199  120\n",
       "6   88   34\n",
       "7    9   13\n",
       "8   53  196\n",
       "9   54   66"
      ]
     },
     "execution_count": 4,
     "metadata": {},
     "output_type": "execute_result"
    }
   ],
   "source": [
    "import pandas as pd\n",
    "\n",
    "frame = pd.DataFrame(random_list)\n",
    "frame"
   ]
  },
  {
   "cell_type": "markdown",
   "metadata": {
    "slideshow": {
     "slide_type": "fragment"
    }
   },
   "source": [
    "- matplotlib & seaborn"
   ]
  },
  {
   "cell_type": "code",
   "execution_count": 5,
   "metadata": {
    "slideshow": {
     "slide_type": "fragment"
    }
   },
   "outputs": [
    {
     "data": {
      "image/png": "[encoded data removed]",
      "text/plain": [
       "<Figure size 432x288 with 1 Axes>"
      ]
     },
     "metadata": {
      "needs_background": "light"
     },
     "output_type": "display_data"
    }
   ],
   "source": [
    "%matplotlib inline\n",
    "import matplotlib.pyplot as plt\n",
    "frame.plot()\n",
    "plt.show()"
   ]
  },
  {
   "cell_type": "markdown",
   "metadata": {
    "slideshow": {
     "slide_type": "subslide"
    }
   },
   "source": [
    "#### Introducción a análisis de datos en Python\n",
    "- Trabajar con strings\n",
    "- Limpieza de datos\n",
    "- Escritura y lectura de datos"
   ]
  },
  {
   "cell_type": "markdown",
   "metadata": {
    "slideshow": {
     "slide_type": "subslide"
    }
   },
   "source": [
    "### Homework Jupyter notebook\n",
    "- Entorno Anaconda + Python + Jupyter Notebook instalado\n",
    "- Creación de notebooks\n",
    "- Creación de tipos de celdas\n",
    " - Markdown para texto e imágenes\n",
    " - Code para código\n",
    "- Revisar los atajos de teclado e interiorizarlos"
   ]
  },
  {
   "cell_type": "markdown",
   "metadata": {
    "slideshow": {
     "slide_type": "slide"
    },
    "tags": []
   },
   "source": [
    "## Gracias"
   ]
  }
 ],
 "metadata": {
  "celltoolbar": "Slideshow",
  "kernelspec": {
   "display_name": "Python 3 (ipykernel)",
   "language": "python",
   "name": "python3"
  },
  "language_info": {
   "codemirror_mode": {
    "name": "ipython",
    "version": 3
   },
   "file_extension": ".py",
   "mimetype": "text/x-python",
   "name": "python",
   "nbconvert_exporter": "python",
   "pygments_lexer": "ipython3",
   "version": "3.9.12"
  },
  "metadata": {
   "interpreter": {
    "hash": "f35a06f707b9576dd6b3ef079e74b1f578cbc33a28427aac1052a70586e6d412"
   }
  }
 },
 "nbformat": 4,
 "nbformat_minor": 4
}

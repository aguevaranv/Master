{
 "cells": [
  {
   "cell_type": "markdown",
   "metadata": {
    "slideshow": {
     "slide_type": "slide"
    }
   },
   "source": [
    "\n",
    "<img src=\"img/viu_logo.png\" width=\"200\">\n",
    "\n",
    "## 01MIAR - Procesamiento de Datos\n",
    "\n",
    "<img src=\"img/This-is-fine.jpg\" width=\"300\">\n",
    "\n",
    "*Ivan Fuertes*\n",
    "\n",
    "*Benjamin Arroquia Cuadros*"
   ]
  },
  {
   "cell_type": "code",
   "execution_count": 2,
   "metadata": {},
   "outputs": [],
   "source": [
    "import numpy as np\n",
    "import pandas as pd\n",
    "import zipfile as zp # para descomprimir archivos zip\n",
    "import urllib.request # para descargar de URL\n",
    "import os"
   ]
  },
  {
   "cell_type": "markdown",
   "metadata": {
    "slideshow": {
     "slide_type": "subslide"
    }
   },
   "source": [
    "### Uniendo datasets con 'join' y 'merge'\n",
    "- merge() == join()\n",
    " - 'join' utiliza por defecto los índices para unir\n",
    "- Utilizando el parámetro 'on'\n",
    " - Si las columnas difieren, 'left_on' y 'right_on'\n",
    "- Diagrama de Venn para unión de tablas:\n",
    "\n",
    "<img src=\"img/venn_diagram.png\" width=\"500\">"
   ]
  },
  {
   "cell_type": "markdown",
   "metadata": {
    "slideshow": {
     "slide_type": "slide"
    }
   },
   "source": [
    "### Combinar varios datasets \n",
    "- En base a un elemento en común (índice)\n",
    "- MovieLens 'UserId'"
   ]
  },
  {
   "cell_type": "code",
   "execution_count": 4,
   "metadata": {
    "slideshow": {
     "slide_type": "subslide"
    }
   },
   "outputs": [
    {
     "name": "stdout",
     "output_type": "stream",
     "text": [
      "Extracting all files...\n",
      "Done!\n"
     ]
    }
   ],
   "source": [
    "\n",
    "# descargar MovieLens dataset\n",
    "# url = 'http://files.grouplens.org/datasets/movielens/ml-1m.zip'  \n",
    "local_zip = os.path.join(\"data\", \"ml-1m.zip\")\n",
    "# urllib.request.urlretrieve(url, local_zip)\n",
    "# descomprimiendo archivo zip\n",
    "with zp.ZipFile(local_zip, 'r') as zipp: \n",
    "    print('Extracting all files...') \n",
    "    zipp.extractall(os.path.join(\"res\")) # destino\n",
    "    print('Done!') "
   ]
  },
  {
   "cell_type": "code",
   "execution_count": 5,
   "metadata": {
    "scrolled": true,
    "slideshow": {
     "slide_type": "fragment"
    }
   },
   "outputs": [],
   "source": [
    "ruta_users = os.path.join(\"res\", \"ml-1m\", \"users.dat\")\n",
    "ruta_ratings = os.path.join(\"res\", \"ml-1m\", \"ratings.dat\")\n",
    "ruta_movies = os.path.join(\"res\", \"ml-1m\", \"movies.dat\")\n",
    "\n",
    "users_dataset = pd.read_csv(ruta_users, sep='::', index_col=0,\n",
    "    header=None, names=['UserID','Gender','Age','Occupation','Zip-code'], engine='python', encoding=\"ISO-8859-1\")\n",
    "\n",
    "ratings_dataset = pd.read_csv(ruta_ratings, sep='::', index_col=0, \n",
    "    header=None, names=['UserID','MovieID','Rating','Timestamp'], engine='python', encoding=\"ISO-8859-1\")\n",
    "\n",
    "movies_dataset = pd.read_csv(ruta_movies, sep='::', index_col=0, \n",
    "    header=None, names=['MovieID','Title','Genre'], engine='python', encoding=\"ISO-8859-1\")"
   ]
  },
  {
   "cell_type": "code",
   "execution_count": 6,
   "metadata": {
    "slideshow": {
     "slide_type": "subslide"
    }
   },
   "outputs": [
    {
     "data": {
      "text/html": [
       "<div>\n",
       "<style scoped>\n",
       "    .dataframe tbody tr th:only-of-type {\n",
       "        vertical-align: middle;\n",
       "    }\n",
       "\n",
       "    .dataframe tbody tr th {\n",
       "        vertical-align: top;\n",
       "    }\n",
       "\n",
       "    .dataframe thead th {\n",
       "        text-align: right;\n",
       "    }\n",
       "</style>\n",
       "<table border=\"1\" class=\"dataframe\">\n",
       "  <thead>\n",
       "    <tr style=\"text-align: right;\">\n",
       "      <th></th>\n",
       "      <th>Gender</th>\n",
       "      <th>Age</th>\n",
       "      <th>Occupation</th>\n",
       "      <th>Zip-code</th>\n",
       "    </tr>\n",
       "    <tr>\n",
       "      <th>UserID</th>\n",
       "      <th></th>\n",
       "      <th></th>\n",
       "      <th></th>\n",
       "      <th></th>\n",
       "    </tr>\n",
       "  </thead>\n",
       "  <tbody>\n",
       "    <tr>\n",
       "      <th>5358</th>\n",
       "      <td>M</td>\n",
       "      <td>35</td>\n",
       "      <td>7</td>\n",
       "      <td>10625</td>\n",
       "    </tr>\n",
       "    <tr>\n",
       "      <th>3834</th>\n",
       "      <td>M</td>\n",
       "      <td>18</td>\n",
       "      <td>2</td>\n",
       "      <td>02322</td>\n",
       "    </tr>\n",
       "    <tr>\n",
       "      <th>5187</th>\n",
       "      <td>M</td>\n",
       "      <td>18</td>\n",
       "      <td>16</td>\n",
       "      <td>06510</td>\n",
       "    </tr>\n",
       "    <tr>\n",
       "      <th>3982</th>\n",
       "      <td>M</td>\n",
       "      <td>56</td>\n",
       "      <td>13</td>\n",
       "      <td>95929</td>\n",
       "    </tr>\n",
       "    <tr>\n",
       "      <th>326</th>\n",
       "      <td>M</td>\n",
       "      <td>50</td>\n",
       "      <td>11</td>\n",
       "      <td>25302</td>\n",
       "    </tr>\n",
       "  </tbody>\n",
       "</table>\n",
       "</div>"
      ],
      "text/plain": [
       "       Gender  Age  Occupation Zip-code\n",
       "UserID                                 \n",
       "5358        M   35           7    10625\n",
       "3834        M   18           2    02322\n",
       "5187        M   18          16    06510\n",
       "3982        M   56          13    95929\n",
       "326         M   50          11    25302"
      ]
     },
     "metadata": {},
     "output_type": "display_data"
    }
   ],
   "source": [
    "display(users_dataset.sample(5))"
   ]
  },
  {
   "cell_type": "code",
   "execution_count": 7,
   "metadata": {
    "slideshow": {
     "slide_type": "fragment"
    }
   },
   "outputs": [
    {
     "data": {
      "text/html": [
       "<div>\n",
       "<style scoped>\n",
       "    .dataframe tbody tr th:only-of-type {\n",
       "        vertical-align: middle;\n",
       "    }\n",
       "\n",
       "    .dataframe tbody tr th {\n",
       "        vertical-align: top;\n",
       "    }\n",
       "\n",
       "    .dataframe thead th {\n",
       "        text-align: right;\n",
       "    }\n",
       "</style>\n",
       "<table border=\"1\" class=\"dataframe\">\n",
       "  <thead>\n",
       "    <tr style=\"text-align: right;\">\n",
       "      <th></th>\n",
       "      <th>MovieID</th>\n",
       "      <th>Rating</th>\n",
       "      <th>Timestamp</th>\n",
       "    </tr>\n",
       "    <tr>\n",
       "      <th>UserID</th>\n",
       "      <th></th>\n",
       "      <th></th>\n",
       "      <th></th>\n",
       "    </tr>\n",
       "  </thead>\n",
       "  <tbody>\n",
       "    <tr>\n",
       "      <th>4218</th>\n",
       "      <td>588</td>\n",
       "      <td>4</td>\n",
       "      <td>965317289</td>\n",
       "    </tr>\n",
       "    <tr>\n",
       "      <th>5198</th>\n",
       "      <td>141</td>\n",
       "      <td>2</td>\n",
       "      <td>961687691</td>\n",
       "    </tr>\n",
       "    <tr>\n",
       "      <th>3118</th>\n",
       "      <td>3198</td>\n",
       "      <td>3</td>\n",
       "      <td>969408454</td>\n",
       "    </tr>\n",
       "    <tr>\n",
       "      <th>5011</th>\n",
       "      <td>44</td>\n",
       "      <td>4</td>\n",
       "      <td>962637031</td>\n",
       "    </tr>\n",
       "    <tr>\n",
       "      <th>839</th>\n",
       "      <td>1288</td>\n",
       "      <td>4</td>\n",
       "      <td>980554888</td>\n",
       "    </tr>\n",
       "  </tbody>\n",
       "</table>\n",
       "</div>"
      ],
      "text/plain": [
       "        MovieID  Rating  Timestamp\n",
       "UserID                            \n",
       "4218        588       4  965317289\n",
       "5198        141       2  961687691\n",
       "3118       3198       3  969408454\n",
       "5011         44       4  962637031\n",
       "839        1288       4  980554888"
      ]
     },
     "metadata": {},
     "output_type": "display_data"
    }
   ],
   "source": [
    "display(ratings_dataset.sample(5))"
   ]
  },
  {
   "cell_type": "code",
   "execution_count": 8,
   "metadata": {},
   "outputs": [
    {
     "data": {
      "text/html": [
       "<div>\n",
       "<style scoped>\n",
       "    .dataframe tbody tr th:only-of-type {\n",
       "        vertical-align: middle;\n",
       "    }\n",
       "\n",
       "    .dataframe tbody tr th {\n",
       "        vertical-align: top;\n",
       "    }\n",
       "\n",
       "    .dataframe thead th {\n",
       "        text-align: right;\n",
       "    }\n",
       "</style>\n",
       "<table border=\"1\" class=\"dataframe\">\n",
       "  <thead>\n",
       "    <tr style=\"text-align: right;\">\n",
       "      <th></th>\n",
       "      <th>Title</th>\n",
       "      <th>Genre</th>\n",
       "    </tr>\n",
       "    <tr>\n",
       "      <th>MovieID</th>\n",
       "      <th></th>\n",
       "      <th></th>\n",
       "    </tr>\n",
       "  </thead>\n",
       "  <tbody>\n",
       "    <tr>\n",
       "      <th>1</th>\n",
       "      <td>Toy Story (1995)</td>\n",
       "      <td>Animation|Children's|Comedy</td>\n",
       "    </tr>\n",
       "    <tr>\n",
       "      <th>2</th>\n",
       "      <td>Jumanji (1995)</td>\n",
       "      <td>Adventure|Children's|Fantasy</td>\n",
       "    </tr>\n",
       "    <tr>\n",
       "      <th>3</th>\n",
       "      <td>Grumpier Old Men (1995)</td>\n",
       "      <td>Comedy|Romance</td>\n",
       "    </tr>\n",
       "    <tr>\n",
       "      <th>4</th>\n",
       "      <td>Waiting to Exhale (1995)</td>\n",
       "      <td>Comedy|Drama</td>\n",
       "    </tr>\n",
       "    <tr>\n",
       "      <th>5</th>\n",
       "      <td>Father of the Bride Part II (1995)</td>\n",
       "      <td>Comedy</td>\n",
       "    </tr>\n",
       "    <tr>\n",
       "      <th>...</th>\n",
       "      <td>...</td>\n",
       "      <td>...</td>\n",
       "    </tr>\n",
       "    <tr>\n",
       "      <th>3948</th>\n",
       "      <td>Meet the Parents (2000)</td>\n",
       "      <td>Comedy</td>\n",
       "    </tr>\n",
       "    <tr>\n",
       "      <th>3949</th>\n",
       "      <td>Requiem for a Dream (2000)</td>\n",
       "      <td>Drama</td>\n",
       "    </tr>\n",
       "    <tr>\n",
       "      <th>3950</th>\n",
       "      <td>Tigerland (2000)</td>\n",
       "      <td>Drama</td>\n",
       "    </tr>\n",
       "    <tr>\n",
       "      <th>3951</th>\n",
       "      <td>Two Family House (2000)</td>\n",
       "      <td>Drama</td>\n",
       "    </tr>\n",
       "    <tr>\n",
       "      <th>3952</th>\n",
       "      <td>Contender, The (2000)</td>\n",
       "      <td>Drama|Thriller</td>\n",
       "    </tr>\n",
       "  </tbody>\n",
       "</table>\n",
       "<p>3883 rows × 2 columns</p>\n",
       "</div>"
      ],
      "text/plain": [
       "                                      Title                         Genre\n",
       "MovieID                                                                  \n",
       "1                          Toy Story (1995)   Animation|Children's|Comedy\n",
       "2                            Jumanji (1995)  Adventure|Children's|Fantasy\n",
       "3                   Grumpier Old Men (1995)                Comedy|Romance\n",
       "4                  Waiting to Exhale (1995)                  Comedy|Drama\n",
       "5        Father of the Bride Part II (1995)                        Comedy\n",
       "...                                     ...                           ...\n",
       "3948                Meet the Parents (2000)                        Comedy\n",
       "3949             Requiem for a Dream (2000)                         Drama\n",
       "3950                       Tigerland (2000)                         Drama\n",
       "3951                Two Family House (2000)                         Drama\n",
       "3952                  Contender, The (2000)                Drama|Thriller\n",
       "\n",
       "[3883 rows x 2 columns]"
      ]
     },
     "execution_count": 8,
     "metadata": {},
     "output_type": "execute_result"
    }
   ],
   "source": [
    "movies_dataset"
   ]
  },
  {
   "cell_type": "code",
   "execution_count": 17,
   "metadata": {},
   "outputs": [
    {
     "data": {
      "text/html": [
       "<div>\n",
       "<style scoped>\n",
       "    .dataframe tbody tr th:only-of-type {\n",
       "        vertical-align: middle;\n",
       "    }\n",
       "\n",
       "    .dataframe tbody tr th {\n",
       "        vertical-align: top;\n",
       "    }\n",
       "\n",
       "    .dataframe thead th {\n",
       "        text-align: right;\n",
       "    }\n",
       "</style>\n",
       "<table border=\"1\" class=\"dataframe\">\n",
       "  <thead>\n",
       "    <tr style=\"text-align: right;\">\n",
       "      <th></th>\n",
       "      <th>Title</th>\n",
       "      <th>Genre</th>\n",
       "    </tr>\n",
       "    <tr>\n",
       "      <th>MovieID</th>\n",
       "      <th></th>\n",
       "      <th></th>\n",
       "    </tr>\n",
       "  </thead>\n",
       "  <tbody>\n",
       "    <tr>\n",
       "      <th>3536</th>\n",
       "      <td>Keeping the Faith (2000)</td>\n",
       "      <td>Comedy|Romance</td>\n",
       "    </tr>\n",
       "  </tbody>\n",
       "</table>\n",
       "</div>"
      ],
      "text/plain": [
       "                            Title           Genre\n",
       "MovieID                                          \n",
       "3536     Keeping the Faith (2000)  Comedy|Romance"
      ]
     },
     "execution_count": 17,
     "metadata": {},
     "output_type": "execute_result"
    }
   ],
   "source": [
    "movies_dataset.loc[movies_dataset.index == 3536] # devuelve un dataFrame pandas.core.frame.DataFrame\n",
    "# se trabajan mas con DataFrame"
   ]
  },
  {
   "cell_type": "code",
   "execution_count": 15,
   "metadata": {},
   "outputs": [
    {
     "data": {
      "text/plain": [
       "Title    Keeping the Faith (2000)\n",
       "Genre              Comedy|Romance\n",
       "Name: 3536, dtype: object"
      ]
     },
     "execution_count": 15,
     "metadata": {},
     "output_type": "execute_result"
    }
   ],
   "source": [
    "movies_dataset.loc[3536]\n",
    "# type(movies_dataset.loc[3536]) # Devuelve un tipo series pandas.core.series.Series"
   ]
  },
  {
   "cell_type": "code",
   "execution_count": null,
   "metadata": {},
   "outputs": [],
   "source": [
    "# \n",
    "# movies_dataset.loc[movies_dataset.index == 3536, :]\n",
    "\n",
    "# movies_dataset[movies_dataset.index == 3536]\n",
    "# type(movies_dataset.loc[movies_dataset.index == 3536, :])\n",
    "# movies_dataset.loc[movies_dataset.index == 3536, :]\n"
   ]
  },
  {
   "cell_type": "code",
   "execution_count": 9,
   "metadata": {
    "tags": []
   },
   "outputs": [
    {
     "data": {
      "text/html": [
       "<div>\n",
       "<style scoped>\n",
       "    .dataframe tbody tr th:only-of-type {\n",
       "        vertical-align: middle;\n",
       "    }\n",
       "\n",
       "    .dataframe tbody tr th {\n",
       "        vertical-align: top;\n",
       "    }\n",
       "\n",
       "    .dataframe thead th {\n",
       "        text-align: right;\n",
       "    }\n",
       "</style>\n",
       "<table border=\"1\" class=\"dataframe\">\n",
       "  <thead>\n",
       "    <tr style=\"text-align: right;\">\n",
       "      <th></th>\n",
       "      <th>Gender</th>\n",
       "      <th>Age</th>\n",
       "      <th>Occupation</th>\n",
       "      <th>Zip-code</th>\n",
       "    </tr>\n",
       "    <tr>\n",
       "      <th>UserID</th>\n",
       "      <th></th>\n",
       "      <th></th>\n",
       "      <th></th>\n",
       "      <th></th>\n",
       "    </tr>\n",
       "  </thead>\n",
       "  <tbody>\n",
       "    <tr>\n",
       "      <th>3818</th>\n",
       "      <td>M</td>\n",
       "      <td>45</td>\n",
       "      <td>17</td>\n",
       "      <td>32837</td>\n",
       "    </tr>\n",
       "    <tr>\n",
       "      <th>3780</th>\n",
       "      <td>M</td>\n",
       "      <td>1</td>\n",
       "      <td>0</td>\n",
       "      <td>46979</td>\n",
       "    </tr>\n",
       "    <tr>\n",
       "      <th>1085</th>\n",
       "      <td>M</td>\n",
       "      <td>25</td>\n",
       "      <td>7</td>\n",
       "      <td>34695</td>\n",
       "    </tr>\n",
       "    <tr>\n",
       "      <th>5525</th>\n",
       "      <td>F</td>\n",
       "      <td>1</td>\n",
       "      <td>10</td>\n",
       "      <td>55311</td>\n",
       "    </tr>\n",
       "    <tr>\n",
       "      <th>1772</th>\n",
       "      <td>M</td>\n",
       "      <td>56</td>\n",
       "      <td>2</td>\n",
       "      <td>90680</td>\n",
       "    </tr>\n",
       "  </tbody>\n",
       "</table>\n",
       "</div>"
      ],
      "text/plain": [
       "       Gender  Age  Occupation Zip-code\n",
       "UserID                                 \n",
       "3818        M   45          17    32837\n",
       "3780        M    1           0    46979\n",
       "1085        M   25           7    34695\n",
       "5525        F    1          10    55311\n",
       "1772        M   56           2    90680"
      ]
     },
     "metadata": {},
     "output_type": "display_data"
    },
    {
     "data": {
      "text/html": [
       "<div>\n",
       "<style scoped>\n",
       "    .dataframe tbody tr th:only-of-type {\n",
       "        vertical-align: middle;\n",
       "    }\n",
       "\n",
       "    .dataframe tbody tr th {\n",
       "        vertical-align: top;\n",
       "    }\n",
       "\n",
       "    .dataframe thead th {\n",
       "        text-align: right;\n",
       "    }\n",
       "</style>\n",
       "<table border=\"1\" class=\"dataframe\">\n",
       "  <thead>\n",
       "    <tr style=\"text-align: right;\">\n",
       "      <th></th>\n",
       "      <th>MovieID</th>\n",
       "      <th>Rating</th>\n",
       "      <th>Timestamp</th>\n",
       "    </tr>\n",
       "    <tr>\n",
       "      <th>UserID</th>\n",
       "      <th></th>\n",
       "      <th></th>\n",
       "      <th></th>\n",
       "    </tr>\n",
       "  </thead>\n",
       "  <tbody>\n",
       "    <tr>\n",
       "      <th>1757</th>\n",
       "      <td>2028</td>\n",
       "      <td>5</td>\n",
       "      <td>974708443</td>\n",
       "    </tr>\n",
       "    <tr>\n",
       "      <th>1061</th>\n",
       "      <td>596</td>\n",
       "      <td>5</td>\n",
       "      <td>974950038</td>\n",
       "    </tr>\n",
       "    <tr>\n",
       "      <th>2102</th>\n",
       "      <td>852</td>\n",
       "      <td>3</td>\n",
       "      <td>974654205</td>\n",
       "    </tr>\n",
       "    <tr>\n",
       "      <th>5791</th>\n",
       "      <td>1571</td>\n",
       "      <td>3</td>\n",
       "      <td>958091132</td>\n",
       "    </tr>\n",
       "    <tr>\n",
       "      <th>2248</th>\n",
       "      <td>1994</td>\n",
       "      <td>3</td>\n",
       "      <td>974595895</td>\n",
       "    </tr>\n",
       "  </tbody>\n",
       "</table>\n",
       "</div>"
      ],
      "text/plain": [
       "        MovieID  Rating  Timestamp\n",
       "UserID                            \n",
       "1757       2028       5  974708443\n",
       "1061        596       5  974950038\n",
       "2102        852       3  974654205\n",
       "5791       1571       3  958091132\n",
       "2248       1994       3  974595895"
      ]
     },
     "metadata": {},
     "output_type": "display_data"
    }
   ],
   "source": [
    "display(users_dataset.sample(5))\n",
    "display(ratings_dataset.sample(5))"
   ]
  },
  {
   "cell_type": "code",
   "execution_count": 18,
   "metadata": {},
   "outputs": [
    {
     "data": {
      "text/plain": [
       "((6040, 4), (1000209, 3))"
      ]
     },
     "execution_count": 18,
     "metadata": {},
     "output_type": "execute_result"
    }
   ],
   "source": [
    "users_dataset.shape, ratings_dataset.shape # tamaño, numero de registros"
   ]
  },
  {
   "cell_type": "code",
   "execution_count": 19,
   "metadata": {
    "slideshow": {
     "slide_type": "fragment"
    }
   },
   "outputs": [
    {
     "data": {
      "text/html": [
       "<div>\n",
       "<style scoped>\n",
       "    .dataframe tbody tr th:only-of-type {\n",
       "        vertical-align: middle;\n",
       "    }\n",
       "\n",
       "    .dataframe tbody tr th {\n",
       "        vertical-align: top;\n",
       "    }\n",
       "\n",
       "    .dataframe thead th {\n",
       "        text-align: right;\n",
       "    }\n",
       "</style>\n",
       "<table border=\"1\" class=\"dataframe\">\n",
       "  <thead>\n",
       "    <tr style=\"text-align: right;\">\n",
       "      <th></th>\n",
       "      <th>Gender</th>\n",
       "      <th>Age</th>\n",
       "      <th>Occupation</th>\n",
       "      <th>Zip-code</th>\n",
       "      <th>MovieID</th>\n",
       "      <th>Rating</th>\n",
       "      <th>Timestamp</th>\n",
       "    </tr>\n",
       "    <tr>\n",
       "      <th>UserID</th>\n",
       "      <th></th>\n",
       "      <th></th>\n",
       "      <th></th>\n",
       "      <th></th>\n",
       "      <th></th>\n",
       "      <th></th>\n",
       "      <th></th>\n",
       "    </tr>\n",
       "  </thead>\n",
       "  <tbody>\n",
       "    <tr>\n",
       "      <th>1</th>\n",
       "      <td>F</td>\n",
       "      <td>1</td>\n",
       "      <td>10</td>\n",
       "      <td>48067</td>\n",
       "      <td>1193</td>\n",
       "      <td>5</td>\n",
       "      <td>978300760</td>\n",
       "    </tr>\n",
       "    <tr>\n",
       "      <th>1</th>\n",
       "      <td>F</td>\n",
       "      <td>1</td>\n",
       "      <td>10</td>\n",
       "      <td>48067</td>\n",
       "      <td>661</td>\n",
       "      <td>3</td>\n",
       "      <td>978302109</td>\n",
       "    </tr>\n",
       "    <tr>\n",
       "      <th>1</th>\n",
       "      <td>F</td>\n",
       "      <td>1</td>\n",
       "      <td>10</td>\n",
       "      <td>48067</td>\n",
       "      <td>914</td>\n",
       "      <td>3</td>\n",
       "      <td>978301968</td>\n",
       "    </tr>\n",
       "    <tr>\n",
       "      <th>1</th>\n",
       "      <td>F</td>\n",
       "      <td>1</td>\n",
       "      <td>10</td>\n",
       "      <td>48067</td>\n",
       "      <td>3408</td>\n",
       "      <td>4</td>\n",
       "      <td>978300275</td>\n",
       "    </tr>\n",
       "    <tr>\n",
       "      <th>1</th>\n",
       "      <td>F</td>\n",
       "      <td>1</td>\n",
       "      <td>10</td>\n",
       "      <td>48067</td>\n",
       "      <td>2355</td>\n",
       "      <td>5</td>\n",
       "      <td>978824291</td>\n",
       "    </tr>\n",
       "  </tbody>\n",
       "</table>\n",
       "</div>"
      ],
      "text/plain": [
       "       Gender  Age  Occupation Zip-code  MovieID  Rating  Timestamp\n",
       "UserID                                                             \n",
       "1           F    1          10    48067     1193       5  978300760\n",
       "1           F    1          10    48067      661       3  978302109\n",
       "1           F    1          10    48067      914       3  978301968\n",
       "1           F    1          10    48067     3408       4  978300275\n",
       "1           F    1          10    48067     2355       5  978824291"
      ]
     },
     "metadata": {},
     "output_type": "display_data"
    },
    {
     "name": "stdout",
     "output_type": "stream",
     "text": [
      "1000209\n"
     ]
    }
   ],
   "source": [
    "# combinando users y ratings, ¿Cómo?. right, queremos que a la derecha este ratings_dataset\n",
    "combined_dataset = users_dataset.merge(right=ratings_dataset, on='UserID', how='inner') # parametro 'on' define la columna pivote\n",
    "display(combined_dataset.head(5))\n",
    "print(len(combined_dataset))"
   ]
  },
  {
   "cell_type": "code",
   "execution_count": 20,
   "metadata": {},
   "outputs": [
    {
     "data": {
      "text/html": [
       "<div>\n",
       "<style scoped>\n",
       "    .dataframe tbody tr th:only-of-type {\n",
       "        vertical-align: middle;\n",
       "    }\n",
       "\n",
       "    .dataframe tbody tr th {\n",
       "        vertical-align: top;\n",
       "    }\n",
       "\n",
       "    .dataframe thead th {\n",
       "        text-align: right;\n",
       "    }\n",
       "</style>\n",
       "<table border=\"1\" class=\"dataframe\">\n",
       "  <thead>\n",
       "    <tr style=\"text-align: right;\">\n",
       "      <th></th>\n",
       "      <th>Gender</th>\n",
       "      <th>Age</th>\n",
       "      <th>Occupation</th>\n",
       "      <th>Zip-code</th>\n",
       "      <th>MovieID</th>\n",
       "      <th>Rating</th>\n",
       "      <th>Timestamp</th>\n",
       "    </tr>\n",
       "    <tr>\n",
       "      <th>UserID</th>\n",
       "      <th></th>\n",
       "      <th></th>\n",
       "      <th></th>\n",
       "      <th></th>\n",
       "      <th></th>\n",
       "      <th></th>\n",
       "      <th></th>\n",
       "    </tr>\n",
       "  </thead>\n",
       "  <tbody>\n",
       "    <tr>\n",
       "      <th>1</th>\n",
       "      <td>F</td>\n",
       "      <td>1</td>\n",
       "      <td>10</td>\n",
       "      <td>48067</td>\n",
       "      <td>1193</td>\n",
       "      <td>5</td>\n",
       "      <td>978300760</td>\n",
       "    </tr>\n",
       "    <tr>\n",
       "      <th>1</th>\n",
       "      <td>F</td>\n",
       "      <td>1</td>\n",
       "      <td>10</td>\n",
       "      <td>48067</td>\n",
       "      <td>661</td>\n",
       "      <td>3</td>\n",
       "      <td>978302109</td>\n",
       "    </tr>\n",
       "    <tr>\n",
       "      <th>1</th>\n",
       "      <td>F</td>\n",
       "      <td>1</td>\n",
       "      <td>10</td>\n",
       "      <td>48067</td>\n",
       "      <td>914</td>\n",
       "      <td>3</td>\n",
       "      <td>978301968</td>\n",
       "    </tr>\n",
       "    <tr>\n",
       "      <th>1</th>\n",
       "      <td>F</td>\n",
       "      <td>1</td>\n",
       "      <td>10</td>\n",
       "      <td>48067</td>\n",
       "      <td>3408</td>\n",
       "      <td>4</td>\n",
       "      <td>978300275</td>\n",
       "    </tr>\n",
       "    <tr>\n",
       "      <th>1</th>\n",
       "      <td>F</td>\n",
       "      <td>1</td>\n",
       "      <td>10</td>\n",
       "      <td>48067</td>\n",
       "      <td>2355</td>\n",
       "      <td>5</td>\n",
       "      <td>978824291</td>\n",
       "    </tr>\n",
       "  </tbody>\n",
       "</table>\n",
       "</div>"
      ],
      "text/plain": [
       "       Gender  Age  Occupation Zip-code  MovieID  Rating  Timestamp\n",
       "UserID                                                             \n",
       "1           F    1          10    48067     1193       5  978300760\n",
       "1           F    1          10    48067      661       3  978302109\n",
       "1           F    1          10    48067      914       3  978301968\n",
       "1           F    1          10    48067     3408       4  978300275\n",
       "1           F    1          10    48067     2355       5  978824291"
      ]
     },
     "metadata": {},
     "output_type": "display_data"
    },
    {
     "name": "stdout",
     "output_type": "stream",
     "text": [
      "1000209\n"
     ]
    }
   ],
   "source": [
    "combined_dataset = users_dataset.merge(right=ratings_dataset, left_index=True, right_index=True, how='inner') # parametro 'on' define la columna pivote\n",
    "display(combined_dataset.head(5))\n",
    "print(len(combined_dataset))"
   ]
  },
  {
   "cell_type": "code",
   "execution_count": 21,
   "metadata": {
    "slideshow": {
     "slide_type": "fragment"
    }
   },
   "outputs": [
    {
     "data": {
      "text/html": [
       "<div>\n",
       "<style scoped>\n",
       "    .dataframe tbody tr th:only-of-type {\n",
       "        vertical-align: middle;\n",
       "    }\n",
       "\n",
       "    .dataframe tbody tr th {\n",
       "        vertical-align: top;\n",
       "    }\n",
       "\n",
       "    .dataframe thead th {\n",
       "        text-align: right;\n",
       "    }\n",
       "</style>\n",
       "<table border=\"1\" class=\"dataframe\">\n",
       "  <thead>\n",
       "    <tr style=\"text-align: right;\">\n",
       "      <th></th>\n",
       "      <th>Gender</th>\n",
       "      <th>Age</th>\n",
       "      <th>Occupation</th>\n",
       "      <th>Zip-code</th>\n",
       "      <th>MovieID</th>\n",
       "      <th>Rating</th>\n",
       "      <th>Timestamp</th>\n",
       "      <th>Title</th>\n",
       "      <th>Genre</th>\n",
       "    </tr>\n",
       "  </thead>\n",
       "  <tbody>\n",
       "    <tr>\n",
       "      <th>0</th>\n",
       "      <td>F</td>\n",
       "      <td>1</td>\n",
       "      <td>10</td>\n",
       "      <td>48067</td>\n",
       "      <td>1193</td>\n",
       "      <td>5</td>\n",
       "      <td>978300760</td>\n",
       "      <td>One Flew Over the Cuckoo's Nest (1975)</td>\n",
       "      <td>Drama</td>\n",
       "    </tr>\n",
       "    <tr>\n",
       "      <th>1</th>\n",
       "      <td>M</td>\n",
       "      <td>56</td>\n",
       "      <td>16</td>\n",
       "      <td>70072</td>\n",
       "      <td>1193</td>\n",
       "      <td>5</td>\n",
       "      <td>978298413</td>\n",
       "      <td>One Flew Over the Cuckoo's Nest (1975)</td>\n",
       "      <td>Drama</td>\n",
       "    </tr>\n",
       "    <tr>\n",
       "      <th>2</th>\n",
       "      <td>M</td>\n",
       "      <td>25</td>\n",
       "      <td>12</td>\n",
       "      <td>32793</td>\n",
       "      <td>1193</td>\n",
       "      <td>4</td>\n",
       "      <td>978220179</td>\n",
       "      <td>One Flew Over the Cuckoo's Nest (1975)</td>\n",
       "      <td>Drama</td>\n",
       "    </tr>\n",
       "    <tr>\n",
       "      <th>3</th>\n",
       "      <td>M</td>\n",
       "      <td>25</td>\n",
       "      <td>7</td>\n",
       "      <td>22903</td>\n",
       "      <td>1193</td>\n",
       "      <td>4</td>\n",
       "      <td>978199279</td>\n",
       "      <td>One Flew Over the Cuckoo's Nest (1975)</td>\n",
       "      <td>Drama</td>\n",
       "    </tr>\n",
       "    <tr>\n",
       "      <th>4</th>\n",
       "      <td>M</td>\n",
       "      <td>50</td>\n",
       "      <td>1</td>\n",
       "      <td>95350</td>\n",
       "      <td>1193</td>\n",
       "      <td>5</td>\n",
       "      <td>978158471</td>\n",
       "      <td>One Flew Over the Cuckoo's Nest (1975)</td>\n",
       "      <td>Drama</td>\n",
       "    </tr>\n",
       "  </tbody>\n",
       "</table>\n",
       "</div>"
      ],
      "text/plain": [
       "  Gender  Age  Occupation Zip-code  MovieID  Rating  Timestamp  \\\n",
       "0      F    1          10    48067     1193       5  978300760   \n",
       "1      M   56          16    70072     1193       5  978298413   \n",
       "2      M   25          12    32793     1193       4  978220179   \n",
       "3      M   25           7    22903     1193       4  978199279   \n",
       "4      M   50           1    95350     1193       5  978158471   \n",
       "\n",
       "                                    Title  Genre  \n",
       "0  One Flew Over the Cuckoo's Nest (1975)  Drama  \n",
       "1  One Flew Over the Cuckoo's Nest (1975)  Drama  \n",
       "2  One Flew Over the Cuckoo's Nest (1975)  Drama  \n",
       "3  One Flew Over the Cuckoo's Nest (1975)  Drama  \n",
       "4  One Flew Over the Cuckoo's Nest (1975)  Drama  "
      ]
     },
     "metadata": {},
     "output_type": "display_data"
    }
   ],
   "source": [
    "# combinando movies y el resto\n",
    "all_dataset = combined_dataset.merge(movies_dataset, on='MovieID', how='inner')\n",
    "display(all_dataset.head(5))"
   ]
  },
  {
   "cell_type": "code",
   "execution_count": 22,
   "metadata": {},
   "outputs": [
    {
     "data": {
      "text/plain": [
       "1000209"
      ]
     },
     "execution_count": 22,
     "metadata": {},
     "output_type": "execute_result"
    }
   ],
   "source": [
    "all_dataset[\"Age\"].count() # si sale el total de los registros significa que no ay nulos"
   ]
  },
  {
   "cell_type": "markdown",
   "metadata": {},
   "source": [
    "### Concatenate\n",
    "https://pandas.pydata.org/pandas-docs/stable/reference/api/pandas.concat.html"
   ]
  },
  {
   "cell_type": "markdown",
   "metadata": {
    "slideshow": {
     "slide_type": "subslide"
    }
   },
   "source": [
    "## Pivot\n",
    "- Representar los datos en función a varios parámetros, agregando\n",
    "```python\n",
    "pivot_table(<lista de valores>, index=<agregador primario>, columns=<agregador secundario>)\n",
    "```\n",
    "- https://pandas.pydata.org/pandas-docs/stable/reference/api/pandas.pivot_table.html\n",
    "- https://pandas.pydata.org/pandas-docs/stable/user_guide/reshaping.html"
   ]
  },
  {
   "cell_type": "code",
   "execution_count": null,
   "metadata": {
    "slideshow": {
     "slide_type": "fragment"
    }
   },
   "outputs": [],
   "source": [
    "# display(all_dataset.pivot_table('Rating', index='Gender', columns='Age'))\n",
    "# display(all_dataset.pivot_table('Rating', index='Gender', columns='Age', aggfunc='count'))\n",
    "display(all_dataset.pivot_table('Rating', index='Age', columns='Gender', aggfunc=['count', max,np.mean]))"
   ]
  },
  {
   "cell_type": "markdown",
   "metadata": {},
   "source": [
    "## Agrupaciones\n",
    "- agg -> funciones estadísticas de agregación\n",
    "- Series.unique() -> valores únicos\n",
    "- pd.value_counts -> ocurrencias"
   ]
  },
  {
   "cell_type": "markdown",
   "metadata": {
    "slideshow": {
     "slide_type": "slide"
    }
   },
   "source": [
    "## Manipulación de strings\n",
    "```python\n",
    "split(): separar en bloques en función de un carácter\n",
    "replace(): reemplazar un carácter por otro\n",
    "index(): encontrar la posición de un carácter\n",
    "```"
   ]
  },
  {
   "cell_type": "code",
   "execution_count": null,
   "metadata": {
    "slideshow": {
     "slide_type": "fragment"
    }
   },
   "outputs": [],
   "source": [
    "# Ejemplo con MovieLens: Genre\n",
    "## 1: obtener todos los géneros por separado\n",
    "## 2: crear un dataset de géneros\n",
    "## 3: por película, marcar género por separado\n",
    "## 4: unir con dataset original\n",
    "display(movies_dataset.head(3))"
   ]
  },
  {
   "cell_type": "code",
   "execution_count": null,
   "metadata": {
    "slideshow": {
     "slide_type": "subslide"
    }
   },
   "outputs": [],
   "source": [
    "all_genres = movies_dataset['Genre'].apply(lambda x : x.split('|'))\n",
    "\n",
    "# print(all_genres)\n",
    "# print([genre for x in all_genres for genre in x])\n",
    "# genres = pd.unique([genre for movie in all_genres for genre in movie])\n",
    "# la suma aplica a al dato tipo lista\n",
    "genres = pd.unique(all_genres.sum())\n",
    "print(genres)"
   ]
  },
  {
   "cell_type": "code",
   "execution_count": null,
   "metadata": {
    "slideshow": {
     "slide_type": "fragment"
    }
   },
   "outputs": [],
   "source": [
    "# crear tabla con columnas por género\n",
    "zeros = np.zeros( (len(movies_dataset), len(genres)) )\n",
    "genres_frame = pd.DataFrame(zeros, columns=genres)\n",
    "display(genres_frame.head(3))"
   ]
  },
  {
   "cell_type": "markdown",
   "metadata": {},
   "source": [
    "Vamos a calcular un One Hot Encoding"
   ]
  },
  {
   "cell_type": "code",
   "execution_count": null,
   "metadata": {},
   "outputs": [],
   "source": [
    "%%time\n",
    "# Otra forma de hacerlo con loc\n",
    "for i, genre in enumerate(movies_dataset['Genre']):\n",
    "    genres_frame.loc[i, genre.split('|')] = 1\n",
    "movies_split_genre = movies_dataset.join(genres_frame)"
   ]
  },
  {
   "cell_type": "code",
   "execution_count": null,
   "metadata": {},
   "outputs": [],
   "source": [
    "movies_split_genre"
   ]
  },
  {
   "cell_type": "code",
   "execution_count": null,
   "metadata": {
    "slideshow": {
     "slide_type": "subslide"
    }
   },
   "outputs": [],
   "source": [
    "%%time\n",
    "columns_genres = genres_frame.columns # lista de generos (columnas)\n",
    "# para cada película, marcar género con 1\n",
    "for i, genre in enumerate(movies_dataset['Genre']):\n",
    "    inds = columns_genres.get_indexer(genre.split('|')) # retorna los indices correspondientes a los generos de cada pelicula\n",
    "    genres_frame.iloc[i,inds] = 1 # localiza las columnas del genero correspondiente, marca con 1\n",
    "# display(genres_frame.head(5))\n",
    "movies_split_genre = movies_dataset.join(genres_frame)"
   ]
  },
  {
   "cell_type": "code",
   "execution_count": null,
   "metadata": {
    "slideshow": {
     "slide_type": "fragment"
    }
   },
   "outputs": [],
   "source": [
    "%%time\n",
    "movies_dataset[\"genero_ls\"] = movies_dataset['Genre'].apply(lambda x : x.split('|'))\n",
    "df_unstacked = movies_dataset.loc[:, [\"genero_ls\"]]\\\n",
    "                            .assign(gen=1)\\\n",
    "                            .explode(\"genero_ls\")\\\n",
    "                            .reset_index(drop=False)\\\n",
    "                            .set_index(keys=[\"MovieID\", \"genero_ls\"])\\\n",
    "                            .unstack(\"genero_ls\", fill_value=0)\\\n",
    "                            .droplevel(0, axis=1)\n",
    "\n",
    "pd.concat([movies_dataset.loc[:, [\"Title\"]], df_unstacked], axis=1).head()\n",
    "df_unstacked\n",
    "movies_dataset.loc[:, [\"Title\"]]"
   ]
  },
  {
   "cell_type": "code",
   "execution_count": null,
   "metadata": {},
   "outputs": [],
   "source": [
    "# O utilizar ScikitLearn\n",
    "# pip install -U scikit-learn\n",
    "from sklearn.preprocessing import MultiLabelBinarizer"
   ]
  },
  {
   "cell_type": "code",
   "execution_count": null,
   "metadata": {},
   "outputs": [],
   "source": [
    "%%timeit\n",
    "movies_dataset[\"genero_ls\"] = movies_dataset['Genre'].apply(lambda x : x.split('|'))\n",
    "mlb = MultiLabelBinarizer()\n",
    "X = mlb.fit_transform(movies_dataset[\"genero_ls\"])\n",
    "movies_dataset.join(pd.DataFrame(X, columns=mlb.classes_))"
   ]
  },
  {
   "cell_type": "code",
   "execution_count": null,
   "metadata": {
    "slideshow": {
     "slide_type": "fragment"
    }
   },
   "outputs": [],
   "source": [
    "display(movies_split_genre.head(5))"
   ]
  },
  {
   "cell_type": "markdown",
   "metadata": {
    "slideshow": {
     "slide_type": "subslide"
    }
   },
   "source": [
    "#### Replace e index para extraer el año de la película"
   ]
  },
  {
   "cell_type": "code",
   "execution_count": null,
   "metadata": {
    "slideshow": {
     "slide_type": "subslide"
    }
   },
   "outputs": [],
   "source": [
    "movies_dataset = pd.read_csv(ruta_movies, sep='::', index_col=0, \n",
    "    header=None, names=['MovieID','Title','Genre'], engine='python', encoding=\"ISO-8859-1\")\n",
    "display(movies_dataset.sample(5))"
   ]
  },
  {
   "cell_type": "code",
   "execution_count": null,
   "metadata": {
    "slideshow": {
     "slide_type": "fragment"
    },
    "tags": []
   },
   "outputs": [],
   "source": [
    "display(movies_dataset.head(2))"
   ]
  },
  {
   "cell_type": "code",
   "execution_count": null,
   "metadata": {
    "slideshow": {
     "slide_type": "fragment"
    }
   },
   "outputs": [],
   "source": [
    "# extraer el año de la columna Title\n",
    "def split_year(title):\n",
    "    index = title.index('(')\n",
    "    return title[index:].replace('(','').replace(')','')\n",
    "    \n",
    "# crear nueva columna Year\n",
    "movies_dataset['Year'] = movies_dataset['Title'].apply(split_year)\n",
    "display(movies_dataset.sample(2))\n",
    "movies_dataset[\"Year\"].unique()"
   ]
  },
  {
   "cell_type": "code",
   "execution_count": null,
   "metadata": {
    "slideshow": {
     "slide_type": "fragment"
    }
   },
   "outputs": [],
   "source": [
    "movies_dataset = pd.read_csv(ruta_movies, sep='::', index_col=0, \n",
    "    header=None, names=['MovieID','Title','Genre'], engine='python', encoding=\"ISO-8859-1\")\n",
    "display(movies_dataset.sample(5))\n",
    "# eliminar el año de la columna Title\n",
    "def remove_year(title):\n",
    "    index = title.index('(')\n",
    "    return title[:index-1].strip()\n",
    "\n",
    "movies_dataset['Title'] = movies_dataset['Title'].apply(remove_year)\n",
    "display(movies_dataset.head(2))\n"
   ]
  },
  {
   "cell_type": "markdown",
   "metadata": {},
   "source": [
    "#### Expresiones regulares\n",
    "https://docs.python.org/3/library/re.html\n",
    "\n",
    "- import re"
   ]
  },
  {
   "cell_type": "code",
   "execution_count": null,
   "metadata": {},
   "outputs": [],
   "source": [
    "users_dataset.sample(10)"
   ]
  },
  {
   "cell_type": "code",
   "execution_count": null,
   "metadata": {
    "slideshow": {
     "slide_type": "fragment"
    }
   },
   "outputs": [],
   "source": [
    "# ¿Cómo localizar que 'Zip-code' tiene un formato erróneo?\n",
    "users_dataset.sample(5)\n",
    "\n",
    "# users_dataset['Zip-code'].str.match('^[0-9]{5}$')\n",
    "\n",
    "display(users_dataset[users_dataset['Zip-code'].str.match('^\\d{5}$') == False])\n",
    "\n",
    "# ^\\d{5}$\n",
    "# ^ = start of the string\n",
    "# \\d = decimal string\n",
    "# {5} = 5 repeticiones de decimales\n",
    "# $ = end of string"
   ]
  },
  {
   "cell_type": "code",
   "execution_count": null,
   "metadata": {},
   "outputs": [],
   "source": [
    "movies_dataset = pd.read_csv(ruta_movies, sep='::', index_col=0, \n",
    "    header=None, names=['MovieID','Title','Genre'], engine='python', encoding=\"ISO-8859-1\")\n",
    "display(movies_dataset.head(2))"
   ]
  },
  {
   "cell_type": "code",
   "execution_count": null,
   "metadata": {},
   "outputs": [],
   "source": [
    "# ¿Cómo extraer el año con regex en el formato adecuado?\n",
    "display(movies_dataset['Title'].str.extract('(\\d{4})'))\n",
    "\n",
    "# (\\d{4})\n",
    "# (= busca apertura parentesis\n",
    "# \\d = decimal string\n",
    "# {4} = 4 repeticiones de decimales\n",
    "# ) = cierre de parentesis"
   ]
  },
  {
   "cell_type": "markdown",
   "metadata": {
    "slideshow": {
     "slide_type": "slide"
    }
   },
   "source": [
    "## Operaciones con colecciones\n",
    "```python\n",
    "reduce: aplicar una operación y retornar un valor\n",
    "map: aplicar  una operación y retornar una secuencia\n",
    "filter: retorna una secuencia con elementos que cumplen una condición\n",
    "```"
   ]
  },
  {
   "cell_type": "markdown",
   "metadata": {
    "slideshow": {
     "slide_type": "subslide"
    }
   },
   "source": [
    "\n",
    "## Reduce\n",
    "- Aplicar una operación matemática a cada uno de los elementos de una colección\n",
    "- Diferente de 'apply()' porque retorna un valor numérico\n",
    "- Ejemplo: Detección de géneros en años específicos\n",
    "\n",
    "https://docs.python.org/3/library/functools.html"
   ]
  },
  {
   "cell_type": "code",
   "execution_count": null,
   "metadata": {},
   "outputs": [],
   "source": [
    "from functools import reduce # necesario para reduce\n",
    "\n",
    "lista = [1, 3, 5, 7, 9]\n",
    "print(reduce(lambda x,y: x + y, lista))"
   ]
  },
  {
   "cell_type": "code",
   "execution_count": null,
   "metadata": {
    "scrolled": true,
    "slideshow": {
     "slide_type": "fragment"
    }
   },
   "outputs": [],
   "source": [
    "movies_1975 = movies_split_genre[ movies_split_genre['Title'].str.contains('1975') ]\n",
    "movies_1975.head(3)"
   ]
  },
  {
   "cell_type": "code",
   "execution_count": null,
   "metadata": {
    "slideshow": {
     "slide_type": "subslide"
    }
   },
   "outputs": [],
   "source": [
    "any_drama = reduce(lambda x,y : bool(x) | bool(y),movies_1975['Drama']) # hay algún drama en 1975\n",
    "print(any_drama)\n",
    "\n",
    "all_comedy = reduce(lambda x,y : bool(x) & bool(y),movies_1975['Comedy']) # son todas las películas de 1975 comedias?\n",
    "print(all_comedy)"
   ]
  },
  {
   "cell_type": "code",
   "execution_count": null,
   "metadata": {},
   "outputs": [],
   "source": [
    "print(movies_1975['Drama'].any()) # Comprueba si hay algún valor que puede cumplir  \n",
    "print(movies_1975['Comedy'].all()) # Comprueba si todos los valores son True"
   ]
  },
  {
   "cell_type": "code",
   "execution_count": null,
   "metadata": {
    "slideshow": {
     "slide_type": "subslide"
    }
   },
   "outputs": [],
   "source": [
    "# Observar el tipo de dato antes para ver si es posible aplicar las funciones\n",
    "print(movies_1975.dtypes)\n",
    "print(movies_1975['Comedy'].unique())"
   ]
  },
  {
   "cell_type": "markdown",
   "metadata": {
    "slideshow": {
     "slide_type": "subslide"
    }
   },
   "source": [
    "## Filter\n",
    "- retorna una secuencia con elementos que cumplen una condición\n",
    "- Ejemplo: obtener las películas de 1975 que contienen 'The' en el título"
   ]
  },
  {
   "cell_type": "code",
   "execution_count": null,
   "metadata": {
    "slideshow": {
     "slide_type": "fragment"
    }
   },
   "outputs": [],
   "source": [
    "filtro = filter(lambda x : 'The' in x, movies_1975['Title'])\n",
    "list(filtro)\n",
    "# ¿Están todos los títulos con \"The\"? si tiene mayúsculas o no..."
   ]
  },
  {
   "cell_type": "code",
   "execution_count": null,
   "metadata": {},
   "outputs": [],
   "source": [
    "filtro = filter(lambda x : 'the' in x, movies_1975['Title'].str.lower())\n",
    "list(filtro)"
   ]
  },
  {
   "cell_type": "markdown",
   "metadata": {
    "slideshow": {
     "slide_type": "subslide"
    }
   },
   "source": [
    "## Map\n",
    "- aplicar  una operación y retornar una secuencia\n",
    "- Cambiar el valor integral de la columna 'Comedy' por bool"
   ]
  },
  {
   "cell_type": "code",
   "execution_count": null,
   "metadata": {
    "scrolled": true,
    "slideshow": {
     "slide_type": "fragment"
    }
   },
   "outputs": [],
   "source": [
    "mapa = map(lambda x : bool(x), movies_split_genre['Comedy'])\n",
    "movies_split_genre.loc[:,'Comedy'] = list(mapa)\n",
    "display(movies_split_genre.head(4))"
   ]
  },
  {
   "cell_type": "markdown",
   "metadata": {
    "slideshow": {
     "slide_type": "slide"
    }
   },
   "source": [
    "## Transformación de variables (calidad de datos)\n",
    "- Valores no definidos\n",
    "- Valores duplicados\n",
    "- Discretización (valores categóricos)"
   ]
  },
  {
   "cell_type": "code",
   "execution_count": null,
   "metadata": {
    "slideshow": {
     "slide_type": "subslide"
    }
   },
   "outputs": [],
   "source": [
    "matrix = pd.DataFrame(np.random.randint(10,size=(5,10)))\n",
    "matrix[matrix < 2] = np.nan\n",
    "display(matrix)"
   ]
  },
  {
   "cell_type": "code",
   "execution_count": null,
   "metadata": {
    "scrolled": true,
    "slideshow": {
     "slide_type": "subslide"
    },
    "tags": []
   },
   "outputs": [],
   "source": [
    "# nulos por columna\n",
    "print(matrix.isnull().sum(axis=0))\n",
    "display(matrix.isna().sum())"
   ]
  },
  {
   "cell_type": "code",
   "execution_count": null,
   "metadata": {},
   "outputs": [],
   "source": [
    "# Cantidad valores nulos\n",
    "print(matrix.isnull().sum(axis=1).sum())"
   ]
  },
  {
   "cell_type": "code",
   "execution_count": null,
   "metadata": {},
   "outputs": [],
   "source": [
    "# numero de no nulos por fila\n",
    "print(matrix.count(axis=1))"
   ]
  },
  {
   "cell_type": "code",
   "execution_count": null,
   "metadata": {
    "slideshow": {
     "slide_type": "fragment"
    }
   },
   "outputs": [],
   "source": [
    "# Número de nulos por fila\n",
    "print(matrix.shape[1] - matrix.count(axis=1))"
   ]
  },
  {
   "cell_type": "code",
   "execution_count": null,
   "metadata": {
    "slideshow": {
     "slide_type": "subslide"
    }
   },
   "outputs": [],
   "source": [
    "# Representación de las filas en las que una determinada columna tiene nulos\n",
    "display(matrix[matrix[1].isnull()])"
   ]
  },
  {
   "cell_type": "code",
   "execution_count": null,
   "metadata": {
    "slideshow": {
     "slide_type": "fragment"
    }
   },
   "outputs": [],
   "source": [
    "# Conteo de valores que aparecen en el dataset\n",
    "valores = [3, 9]\n",
    "# Identificación de valores de dominio que se encuentran en un listado\n",
    "display(matrix[matrix[6].isin(valores)])"
   ]
  },
  {
   "cell_type": "code",
   "execution_count": null,
   "metadata": {},
   "outputs": [],
   "source": [
    "display(matrix)"
   ]
  },
  {
   "cell_type": "code",
   "execution_count": null,
   "metadata": {
    "slideshow": {
     "slide_type": "subslide"
    }
   },
   "outputs": [],
   "source": [
    "## Tratamiento de valores nulos\n",
    "# eliminar\n",
    "display(matrix.dropna(axis=1))"
   ]
  },
  {
   "cell_type": "code",
   "execution_count": null,
   "metadata": {
    "slideshow": {
     "slide_type": "fragment"
    }
   },
   "outputs": [],
   "source": [
    "# eliminar si no hay un número de valores no NaN\n",
    "display(matrix)\n",
    "display(matrix.dropna(thresh=8))"
   ]
  },
  {
   "cell_type": "code",
   "execution_count": null,
   "metadata": {
    "slideshow": {
     "slide_type": "subslide"
    }
   },
   "outputs": [],
   "source": [
    "# sustituir por un valor fijo\n",
    "display(matrix.fillna(-1))"
   ]
  },
  {
   "cell_type": "code",
   "execution_count": null,
   "metadata": {
    "slideshow": {
     "slide_type": "fragment"
    }
   },
   "outputs": [],
   "source": [
    "# sustituir por valor dinámico (copia)\n",
    "display(matrix)\n",
    "display(matrix.fillna(method='ffill')) # bfill y ffill"
   ]
  },
  {
   "cell_type": "code",
   "execution_count": null,
   "metadata": {
    "slideshow": {
     "slide_type": "subslide"
    }
   },
   "outputs": [],
   "source": [
    "# sustituir por valor dinámico (interpolación)\n",
    "display(matrix)\n",
    "display(matrix.interpolate())"
   ]
  },
  {
   "cell_type": "markdown",
   "metadata": {
    "slideshow": {
     "slide_type": "subslide"
    }
   },
   "source": [
    "#### Tratar valores duplicados"
   ]
  },
  {
   "cell_type": "code",
   "execution_count": null,
   "metadata": {
    "slideshow": {
     "slide_type": "fragment"
    }
   },
   "outputs": [],
   "source": [
    "serie = pd.Series(['a','b','c','a','c','a','g'])\n",
    "print(serie.duplicated())"
   ]
  },
  {
   "cell_type": "code",
   "execution_count": null,
   "metadata": {
    "slideshow": {
     "slide_type": "fragment"
    }
   },
   "outputs": [],
   "source": [
    "df = all_dataset\n",
    "display(df.head(3))\n",
    "\n",
    "# Eliminación de los duplicados en una columna definida\n",
    "df2 = df.drop_duplicates(subset=\"Gender\", keep='last', inplace=False)\n",
    "display(df2)"
   ]
  },
  {
   "cell_type": "markdown",
   "metadata": {
    "slideshow": {
     "slide_type": "subslide"
    }
   },
   "source": [
    "#### Discretización (valores categóricos)\n",
    "- Tras Series y DataFrame, objeto para categorías: Categorical\n",
    "```python\n",
    "categorias = pd.cut(<valores>, <bins>) \n",
    "```"
   ]
  },
  {
   "cell_type": "code",
   "execution_count": null,
   "metadata": {
    "slideshow": {
     "slide_type": "fragment"
    }
   },
   "outputs": [],
   "source": [
    "# especificar los bloques\n",
    "bins = [0,18,35,65,99]\n",
    "edades = [16,25,18,71,44,100,12]\n",
    "categorias = pd.cut(edades,bins)\n",
    "print(categorias)"
   ]
  },
  {
   "cell_type": "code",
   "execution_count": null,
   "metadata": {
    "slideshow": {
     "slide_type": "fragment"
    }
   },
   "outputs": [],
   "source": [
    "categorias.value_counts()"
   ]
  },
  {
   "cell_type": "code",
   "execution_count": null,
   "metadata": {
    "slideshow": {
     "slide_type": "subslide"
    }
   },
   "outputs": [],
   "source": [
    "# especificar el número de bloques\n",
    "bins = 5\n",
    "edades = [0,6,8,16,25,18,71,44,100]\n",
    "categorias = pd.cut(edades,bins) # rangos idénticos (similar distancia de rangos)\n",
    "print(categorias)\n",
    "print(categorias.value_counts())"
   ]
  },
  {
   "cell_type": "code",
   "execution_count": null,
   "metadata": {
    "slideshow": {
     "slide_type": "subslide"
    }
   },
   "outputs": [],
   "source": [
    "bins = 5\n",
    "edades = [1,6,8,16,25,18,71,44,100]\n",
    "categorias = pd.qcut(edades,bins) # rangos homogéneos (similar número de valores)\n",
    "print(categorias)\n",
    "print(categorias.value_counts())"
   ]
  },
  {
   "cell_type": "markdown",
   "metadata": {},
   "source": [
    "## Visualización"
   ]
  },
  {
   "cell_type": "code",
   "execution_count": null,
   "metadata": {},
   "outputs": [],
   "source": [
    "movies_dataset.assign(tip_rate=tips[\"tip\"] / tips[\"total_bill\"]) #TODO: columna de asignación al vuelo"
   ]
  }
 ],
 "metadata": {
  "celltoolbar": "Slideshow",
  "kernelspec": {
   "display_name": "Python 3 (ipykernel)",
   "language": "python",
   "name": "python3"
  },
  "language_info": {
   "codemirror_mode": {
    "name": "ipython",
    "version": 3
   },
   "file_extension": ".py",
   "mimetype": "text/x-python",
   "name": "python",
   "nbconvert_exporter": "python",
   "pygments_lexer": "ipython3",
   "version": "3.9.12"
  }
 },
 "nbformat": 4,
 "nbformat_minor": 4
}

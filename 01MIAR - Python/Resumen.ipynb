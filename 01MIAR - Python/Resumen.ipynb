{
 "cells": [
  {
   "attachments": {},
   "cell_type": "markdown",
   "id": "cffbcd0e-dc00-4547-ac87-ef95eb5bbb51",
   "metadata": {},
   "source": [
    "# Resumen"
   ]
  },
  {
   "cell_type": "code",
   "execution_count": 2,
   "id": "8ef7d433-2f37-43b7-95ad-5c65b99f39b9",
   "metadata": {},
   "outputs": [],
   "source": [
    "# Librerias\n",
    "import numpy as np\n",
    "import pandas as pd\n",
    "import matplotlib.pyplot as plt\n",
    "import seaborn as sns"
   ]
  },
  {
   "attachments": {},
   "cell_type": "markdown",
   "id": "0ddfb619-f1e8-4d7f-9bb5-b08686efabf2",
   "metadata": {
    "tags": []
   },
   "source": [
    "### Python"
   ]
  },
  {
   "attachments": {},
   "cell_type": "markdown",
   "id": "aa8fcdb2",
   "metadata": {},
   "source": [
    "### Operadores Aritméticos\n",
    "| Operador | Desc |\n",
    "|:---------|:-----|\n",
    "| a + b    | Suma |\n",
    "| a - b    | Resta |\n",
    "| a / b    | División |\n",
    "| a // b   | División Entera |\n",
    "| a % b    | Modulo / Resto |\n",
    "| a * b    | Multiplicacion |\n",
    "| a ** b   | Exponencial |"
   ]
  },
  {
   "attachments": {},
   "cell_type": "markdown",
   "id": "d04dd093",
   "metadata": {},
   "source": [
    "### Operadores de Comparación\n",
    "\n",
    "| Operador | Desc |\n",
    "|:---------|:-----|\n",
    "| a > b    | Mayor |\n",
    "| a < b    | Menor |\n",
    "| a == b    | Igualdad |\n",
    "| a != b   | Desigualdad |\n",
    "| a >= b    | Mayor o Igual |\n",
    "| a <= b    | Menor o Igual |"
   ]
  },
  {
   "cell_type": "code",
   "execution_count": 9,
   "id": "c1702909",
   "metadata": {},
   "outputs": [
    {
     "name": "stdout",
     "output_type": "stream",
     "text": [
      "Leonardo\n"
     ]
    }
   ],
   "source": [
    "text = ' lEonardo '\n",
    "text = text.strip() # eliminar espacios en blanco\n",
    "text = text.title() # capitalizar primera letra\n",
    "print(text)"
   ]
  },
  {
   "cell_type": "code",
   "execution_count": 10,
   "id": "47419bfb",
   "metadata": {},
   "outputs": [
    {
     "name": "stdout",
     "output_type": "stream",
     "text": [
      "3\n"
     ]
    }
   ],
   "source": [
    "val = -3\n",
    "# operador ternario (forma breve if-else)\n",
    "resultado = val if val >= 0 else -val\n",
    "print(resultado)"
   ]
  },
  {
   "cell_type": "code",
   "execution_count": null,
   "id": "e26b8844",
   "metadata": {},
   "outputs": [],
   "source": [
    "# print(elemento)\n",
    "lista = [44, 20, 6]\n",
    "for elemento in lista:\n",
    "    print(elemento)\n",
    "    \n",
    "# del elemento      # eliminar una variable del entorno\n",
    "# print(elemento)"
   ]
  },
  {
   "cell_type": "code",
   "execution_count": null,
   "id": "0368e245",
   "metadata": {},
   "outputs": [
    {
     "name": "stdout",
     "output_type": "stream",
     "text": [
      "[0, 1, 2, 3, 4, 5, 6, 7, 8, 9]\n",
      "[2, 3, 4, 5, 6, 7, 8, 9]\n",
      "[2, 4, 6, 8]\n",
      "[10, 8, 6, 4]\n"
     ]
    }
   ],
   "source": [
    "print(list(range(10)))\n",
    "print(list(range(2, 10)))\n",
    "print(list(range(2, 10, 2)))\n",
    "print(list(range(10, 2, -2)))"
   ]
  },
  {
   "cell_type": "code",
   "execution_count": null,
   "id": "b1f22248",
   "metadata": {},
   "outputs": [],
   "source": [
    "#iterar un número fijo de veces\n",
    "n = 5\n",
    "for i in range(n):  # de [0 a 9]\n",
    "    print(pow(i,2))"
   ]
  },
  {
   "cell_type": "code",
   "execution_count": null,
   "id": "38d9135d",
   "metadata": {},
   "outputs": [],
   "source": [
    "index = 0\n",
    "movie_ratings = [4.9,2.5,1.7,4.2,3.8,3.3,2.9]\n",
    "while True:\n",
    "    if movie_ratings[index] > 4:\n",
    "        print(movie_ratings[index])\n",
    "    index += 1\n",
    "    if index >= len(movie_ratings):\n",
    "        break # break fuerza la salida del loop"
   ]
  },
  {
   "cell_type": "code",
   "execution_count": null,
   "id": "8174b7e1",
   "metadata": {},
   "outputs": [],
   "source": [
    "for i in range(10):\n",
    "    if i % 2 == 0:\n",
    "        continue # salta a la siguiente iteración\n",
    "    print(i)"
   ]
  },
  {
   "cell_type": "code",
   "execution_count": null,
   "id": "c9e227ba",
   "metadata": {},
   "outputs": [],
   "source": [
    "# crear una tupla\n",
    "tuple1 = ('Foo',34,5.0,34)\n",
    "print(tuple1[0])   # acceso al elemento con índice 0\n",
    "print(len(tuple1)) # elementos en la tupla\n",
    "print(tuple1)      # todos los elementos\n",
    "print(tuple1[0]) # 1er elemento\n",
    "print(tuple1[len(tuple1)-1]) #ultimo elemento\n",
    "print(tuple1[-1]) # negativos de atras hacia delante\n",
    "print(tuple1[-len(tuple1)]) # primer elemento\n",
    "# empaquetar\n",
    "tuple1 = 30, \"Foo\", 40, 0.1\n",
    "print(tuple1[1])\n",
    "print(tuple1)\n",
    "# desempaquetar una tupla\n",
    "tuple1 = ('Foo',34,5.0,340)\n",
    "a, b, c, d = tuple1 # a,b,c - a,b,c,d - a,b,_,_\n",
    "# desempaquetado parcial\n",
    "tuple1 = ('Foo',34,5.0, 45)\n",
    "a, *resto = tuple1\n",
    "# desempaquetado parcial\n",
    "tuple1 = ('Foo',34,5.0,45)\n",
    "a, *_ = tuple1    # ignora el resto"
   ]
  },
  {
   "cell_type": "code",
   "execution_count": 12,
   "id": "dc6bc371",
   "metadata": {},
   "outputs": [
    {
     "name": "stdout",
     "output_type": "stream",
     "text": [
      "[4, 5]\n",
      "<class 'list'>\n"
     ]
    }
   ],
   "source": [
    "#lista\n",
    "# crear una lista\n",
    "compra = ['Huevos','Pan','Leche',0]\n",
    "# añadir un elemento\n",
    "compra.append('Carne')\n",
    "# insertar elemento\n",
    "compra.insert(1,'Fruta') # añadir en posición\n",
    "# concatenar listas\n",
    "fruta = ['Pera','Manzana','Naranja']\n",
    "total = compra + fruta # crea nueva lista con elementos de ambas\n",
    "compra.extend(fruta) # añade elementos (sin crear nueva lista)\n",
    "# eliminar un elemento\n",
    "compra.remove('Carne')\n",
    "elemento = compra.pop() # elimina el elemento en posición -1 y lo devuelve\n",
    "fruta2 = fruta * 3\n",
    "compra.sort(reverse=False) # ordenar una lista\n",
    "print(sorted(compra)) # ortro metodo de ordenar\n",
    "\n",
    "x, *y, z = 3, 4, 5, 6\n",
    "print(y)\n",
    "print(type(y))\n",
    "\n",
    "# copiar listas para que no se sobreescriban\n",
    "lista = [2, 4, 16, 32]\n",
    "# copia = lista[:] \n",
    "copia = lista.copy()\n",
    "\n",
    "# evitar que listas anidadas se copien por referencia\n",
    "import copy\n",
    "lista = [2, 4, 16, 32, [34, 10, [5,5]]]\n",
    "# copia = lista.copy()\n",
    "copia = copy.deepcopy(lista)\n",
    "\n",
    "lista_completa = list(range(0,12,2)) # lista [0,1,2,3,4,5]\n",
    "slice1 = lista_completa[:] # lista [0,1,2,3,4,5] copia de lista_completa diferente id\n",
    "slice2 = lista_completa[1:3] # lista [1,2]\n",
    "slice3 = lista_completa[0:-1] # lista [0,1,2,3,4]\n",
    "slice4 = lista_completa[::2] # lista [0,2,4]\n",
    "\n",
    "#list compresion\n",
    "# con list comprehension\n",
    "final_values = [x**2 for x in range(-4,5)]\n",
    "# es lo mismo que\n",
    "final_values = []\n",
    "for x in range(-4,5):\n",
    "    final_values.append(x**2)\n",
    "\n",
    "list1 = [x**2 if x > 0 else x for x in range(-4,5)] #[-4, -3, -2, -1, 0, 1, 4, 9, 16]\n",
    "\n",
    "# similar para diccionarios y sets, pero con {}\n",
    "items = ['Banana', 'Pear', 'Olives']\n",
    "price = [1.1, 1.4, 2.4]\n",
    "shopping = {k:v for k,v in zip(items,price)} # zip: crea tuplas que las mete en un diciconario\n",
    "\n",
    "# enumerate para iterar una colección (índice y valor)\n",
    "lista = [10, 20, 30]\n",
    "for index, value in enumerate(lista):\n",
    "    print('Index = ' + str(index) + '. Value = ' + str(value))\n",
    "\n",
    "# zip para unir, elemento a elemento, dos colecciones, retornando lista de tuplas\n",
    "# útil para iterar dos listas al mismo tiempo\n",
    "nombres = ['Manolo','Pepe','Luis']\n",
    "edades = [31,34,34]\n",
    "for nombre,edad in zip(nombres,edades):\n",
    "    print('Nombre: ' + nombre + ', edad: ' + str(edad))\n",
    "\n",
    "nombres = ['Manolo','Pepe','Luis']\n",
    "edades = [31,34,34]\n",
    "jugadores = zip(nombres,edades)   # genera secuencia\n",
    "print(list(jugadores))\n",
    "print(type(jugadores))\n",
    "\n",
    "# unzip \n",
    "nombres = ['Manolo','Pepe','Luis']\n",
    "edades = [31,34,34]\n",
    "jugadores = zip(nombres,edades)\n",
    "ns, es = zip(*jugadores)\n",
    "print(list(ns))\n",
    "print(es)\n",
    "\n",
    "\n"
   ]
  },
  {
   "cell_type": "code",
   "execution_count": null,
   "id": "0de6d810",
   "metadata": {},
   "outputs": [],
   "source": [
    "# Diccionarios\n",
    "# crear un diccionario\n",
    "dict_simple = {'ID' : 'XCSDe1194', 'Nombre' : 'Carlos', 'Edad' : 34}\n",
    "# los valores pueden ser una lista. Pensar en excel o csv\n",
    "dict_columnas = {'ID' : ['XCSDe1194','GTIM11'], 'Nombre' : ['Carlos','Mark'], 'Edad' : [34,21]}\n",
    "dict_simple = {(1,2) : 'carlos'} # una tupla puede utilizarse como clave porque es inmutable\n",
    "# Crear diccionarios uniendo dos colecciones\n",
    "nombres = ['Marie','Augusto','Domingo']\n",
    "edades = [98,76,65]\n",
    "datos = dict(zip(nombres,edades))\n",
    "# Crear diccionarios uniendo dos colecciones (comprehension list)\n",
    "nombres = ['Marie','Augusto','Domingo']\n",
    "edades = [98,76,65]\n",
    "datos = {k:v for k,v in zip(nombres,edades)}\n",
    "# acceso a un valor a traves de la clave\n",
    "dict_simple = {'ID' : 4, 'Nombre' : 'Carlos', 'Edad' : 34}\n",
    "nombre = dict_simple['Nombre'] # Carlos\n",
    "s = dict_simple.get('ID') # 4\n",
    "\n",
    "# Pasando un iterador\n",
    "dict_simple = dict([['ciudad', 'Valencia'], ['habitantes', 800000]])\n",
    "print(dict_simple)\n",
    "# Pasando claves y valores\n",
    "dict_simple = dict(ciudad='Valencia', habitantes=800000)\n",
    "print(dict_simple)\n",
    "\n",
    "# a partir de una lista y un enumerate, comprehension\n",
    "dict_simple = {k:v for k, v in enumerate(list('asdbg'))}\n",
    "dict_simple=dict(enumerate(list('asdbg')))\n",
    "\n",
    "ict_simple = {'ID' : 'XCSDe1194', \n",
    "               'Nombre' : 'Carlos', \n",
    "               'Edad' : 34\n",
    "               }\n",
    "# iterar sobre las claves\n",
    "for k in dict_simple.keys(): # o dict_simple\n",
    "    print(k)\n",
    "# iterar sobre los valores\n",
    "for value in dict_simple.values():\n",
    "    print(value)\n",
    "\n"
   ]
  },
  {
   "attachments": {},
   "cell_type": "markdown",
   "id": "476e917f",
   "metadata": {},
   "source": [
    "### Numpy"
   ]
  },
  {
   "cell_type": "code",
   "execution_count": null,
   "metadata": {},
   "outputs": [
    {
     "data": {
      "text/plain": [
       "array([[ 24,   2],\n",
       "       [ 28, 164],\n",
       "       [ 27,  60],\n",
       "       [150,  49],\n",
       "       [163,  89],\n",
       "       [ 87, 146],\n",
       "       [ 66,  95],\n",
       "       [ 52, 160],\n",
       "       [ 81, 175],\n",
       "       [108,  47]])"
      ]
     },
     "metadata": {},
     "output_type": "display_data"
    }
   ],
   "source": [
    "random_list = np.random.randint(200,size=(10,2))\n",
    "random_list"
   ]
  },
  {
   "cell_type": "code",
   "execution_count": 8,
   "id": "c36740b5",
   "metadata": {},
   "outputs": [
    {
     "name": "stdout",
     "output_type": "stream",
     "text": [
      "CPU times: user 117 ms, sys: 324 ms, total: 441 ms\n",
      "Wall time: 443 ms\n",
      "CPU times: user 6.37 s, sys: 1.74 s, total: 8.11 s\n",
      "Wall time: 11.5 s\n"
     ]
    }
   ],
   "source": [
    "import numpy as np\n",
    "my_arr = np.arange(10000000)  # Utilizando NumPy Arrays\n",
    "my_list = list(range(10000000)) # Utilizando Listas Python\n",
    "%time for _ in range(10): my_arr2 = my_arr * 2\n",
    "%time for _ in range(10): my_list2 = [x * 2 for x in my_list]"
   ]
  },
  {
   "attachments": {},
   "cell_type": "markdown",
   "id": "b815f9d1",
   "metadata": {},
   "source": [
    "### Pandas"
   ]
  },
  {
   "cell_type": "code",
   "execution_count": 4,
   "id": "56c990ae-c7d0-47fd-886f-e25f522030ec",
   "metadata": {},
   "outputs": [
    {
     "data": {
      "text/html": [
       "<div>\n",
       "<style scoped>\n",
       "    .dataframe tbody tr th:only-of-type {\n",
       "        vertical-align: middle;\n",
       "    }\n",
       "\n",
       "    .dataframe tbody tr th {\n",
       "        vertical-align: top;\n",
       "    }\n",
       "\n",
       "    .dataframe thead th {\n",
       "        text-align: right;\n",
       "    }\n",
       "</style>\n",
       "<table border=\"1\" class=\"dataframe\">\n",
       "  <thead>\n",
       "    <tr style=\"text-align: right;\">\n",
       "      <th></th>\n",
       "      <th>0</th>\n",
       "      <th>1</th>\n",
       "    </tr>\n",
       "  </thead>\n",
       "  <tbody>\n",
       "    <tr>\n",
       "      <th>0</th>\n",
       "      <td>24</td>\n",
       "      <td>2</td>\n",
       "    </tr>\n",
       "    <tr>\n",
       "      <th>1</th>\n",
       "      <td>28</td>\n",
       "      <td>164</td>\n",
       "    </tr>\n",
       "    <tr>\n",
       "      <th>2</th>\n",
       "      <td>27</td>\n",
       "      <td>60</td>\n",
       "    </tr>\n",
       "    <tr>\n",
       "      <th>3</th>\n",
       "      <td>150</td>\n",
       "      <td>49</td>\n",
       "    </tr>\n",
       "    <tr>\n",
       "      <th>4</th>\n",
       "      <td>163</td>\n",
       "      <td>89</td>\n",
       "    </tr>\n",
       "    <tr>\n",
       "      <th>5</th>\n",
       "      <td>87</td>\n",
       "      <td>146</td>\n",
       "    </tr>\n",
       "    <tr>\n",
       "      <th>6</th>\n",
       "      <td>66</td>\n",
       "      <td>95</td>\n",
       "    </tr>\n",
       "    <tr>\n",
       "      <th>7</th>\n",
       "      <td>52</td>\n",
       "      <td>160</td>\n",
       "    </tr>\n",
       "    <tr>\n",
       "      <th>8</th>\n",
       "      <td>81</td>\n",
       "      <td>175</td>\n",
       "    </tr>\n",
       "    <tr>\n",
       "      <th>9</th>\n",
       "      <td>108</td>\n",
       "      <td>47</td>\n",
       "    </tr>\n",
       "  </tbody>\n",
       "</table>\n",
       "</div>"
      ],
      "text/plain": [
       "     0    1\n",
       "0   24    2\n",
       "1   28  164\n",
       "2   27   60\n",
       "3  150   49\n",
       "4  163   89\n",
       "5   87  146\n",
       "6   66   95\n",
       "7   52  160\n",
       "8   81  175\n",
       "9  108   47"
      ]
     },
     "execution_count": 4,
     "metadata": {},
     "output_type": "execute_result"
    }
   ],
   "source": [
    "frame = pd.DataFrame(random_list)\n",
    "frame"
   ]
  },
  {
   "attachments": {},
   "cell_type": "markdown",
   "id": "80c4d2af",
   "metadata": {},
   "source": [
    "### matplotlib & seaborn"
   ]
  },
  {
   "cell_type": "code",
   "execution_count": 5,
   "id": "767602b3",
   "metadata": {},
   "outputs": [
    {
     "data": {
      "image/png": "[encoded data removed]",
      "text/plain": [
       "<Figure size 432x288 with 1 Axes>"
      ]
     },
     "metadata": {
      "needs_background": "light"
     },
     "output_type": "display_data"
    }
   ],
   "source": [
    "%matplotlib inline\n",
    "import matplotlib.pyplot as plt\n",
    "frame.plot()\n",
    "plt.show()"
   ]
  }
 ],
 "metadata": {
  "kernelspec": {
   "display_name": "Python 3 (ipykernel)",
   "language": "python",
   "name": "python3"
  },
  "language_info": {
   "codemirror_mode": {
    "name": "ipython",
    "version": 3
   },
   "file_extension": ".py",
   "mimetype": "text/x-python",
   "name": "python",
   "nbconvert_exporter": "python",
   "pygments_lexer": "ipython3",
   "version": "3.9.12"
  }
 },
 "nbformat": 4,
 "nbformat_minor": 5
}

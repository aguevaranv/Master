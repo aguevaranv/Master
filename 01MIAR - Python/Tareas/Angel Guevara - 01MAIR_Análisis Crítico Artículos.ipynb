{
 "cells": [
  {
   "attachments": {},
   "cell_type": "markdown",
   "metadata": {},
   "source": [
    "\n",
    "# Análisis crírico artículos cientificos sobre Numpy y Pandas\n",
    "\n",
    "### Objetivos:\n",
    "- Leer y analizar críticamente dos artículos científicos.\n",
    "\n",
    "### Instrucciones:\n",
    "- Crear un notebook de Python que servirá como entrega de la actividad.\n",
    "- Separar bien los apartados propuestos con celdas Markdown.\n",
    "- Mantener una estructura limpia, comentando código y secuenciando los\n",
    "apartados con el código correspondiente que resuelva la actividad.\n",
    "- Como criterio de evaluación se tendrá en cuenta el resultado, la consecución del\n",
    "mismo, estilo, comentarios y adecuación. Siempre será tenido en cuenta cualquier\n",
    "detalle técnico avanzado o no visto en clase relacionado con el tema (explicar el\n",
    "porqué y usabilidad).\n",
    "- No está permitido compartir los resultados ni el código en ninguno de los foros.\n",
    "- Revisar los temas 3 y 4, así como las sesiones sobre Numpy y Pandas para\n",
    "aplicar dichos contenidos.\n",
    "\n",
    "### Tarea para el portfolio:\n",
    "##### En el artículo 1 se presenta la estructura ndarray de NumPy, y se hace un estudio sobre su uso y cómo mejora el rendimiento de ciertas operaciones matemáticas para la computación numérica. Se hace una breve introducción al Broadcasting como técnica que usa NumPy para realizar operaciones aritméticas sobre dos o más arrays con distintas dimensiones:\n",
    "- Pregunta 1 - Ampliar dicha explicación, aportando posibles restricciones o\n",
    "limitaciones a dicho sistema y ejemplos propios de los casos de uso.\n",
    "También se introduce el trabajo con ficheros usando memoria mapeada:\n",
    "- Pregunta 2 - Verificar la eficacia y mejora posible de rendimiento del uso de \n",
    "memoria mapeada sobre ndarrays de tamaños grandes.\n",
    "##### En el artículo 2 el creador de pandas introduce dicha librería en comparación con las estructuras nativas de R.\n",
    "- Pregunta 3 - Desarrollar una opinión razonada del estado actual de las\n",
    "herramientas de análisis de datos estadísticos en contraposición a como se muestran\n",
    "en el artículo, R vs Python vs SQL vs Others..."
   ]
  },
  {
   "attachments": {},
   "cell_type": "markdown",
   "metadata": {},
   "source": [
    "## The NumPy array: A structure for efficient numerical computation.\n",
    "### El array de NumPy: Una estructura para computación numérica eficiente.\n",
    "El texto describe el uso de los arrays NumPy en Python para realizar cálculos numéricos eficientes. Explica que los arrays NumPy son la representación estándar para datos numéricos en Python y se utilizan para mejorar el rendimiento mediante la vectorización de cálculos, evitando copiar datos en memoria y minimizando la cantidad de operaciones.\n",
    "\n",
    "Para llegar a este resultado partimos de que los arrays NumPy es una colección uniforme multidimensional de elementos de los cuales se puede formar vectores o matrices de M filas x N columnas (MxN). Estas colecciones pueden contener numeros como enteros, flotantes o complejos, asi como otros tipos de elementos como booleans o dates.\n",
    "\n",
    "Su estructura es la siguiente:\n",
    "- Puntero de datos: la dirección de memoria del primer byte en el arreglo.\n",
    "- Descripción del tipo de datos: el tipo de elementos contenidos en el arreglo, por ejemplo, float o int.\n",
    "- Forma: la forma del arreglo, por ejemplo, (10, 10) para un arreglo de diez por diez, o (5, 5, 5) para un bloque de datos que describe una cuadrícula de coordenadas x, y y z.\n",
    "- Pasos: el número de bytes a saltar en la memoria para avanzar al siguiente elemento. Por ejemplo, para un arreglo (10, 10) de bytes, los pasos pueden ser (10, 1), es decir, avanzar un byte para obtener la siguiente columna y diez bytes para localizar la siguiente fila.\n",
    "- Banderas: definen si se permite modificar el arreglo, si el diseño de memoria es contiguo en estilo C o en estilo Fortran, y otros aspectos.\n",
    "\n",
    "El artículo presenta la estructura de los arrays NumPy, cómo utilizarlos para cálculos eficientes y cómo compartir datos de arrays con otras bibliotecas. Describe que un array NumPy es una colección multidimensional y uniforme de elementos con un tipo de dato y forma específicos. Los arrays NumPy pueden tener cualquier dimensionalidad y pueden contener diferentes tipos de elementos.\n",
    "\n",
    "Se explica la estructura de un array NumPy, incluyendo el puntero de datos, la descripción del tipo de datos, la forma, los pasos y las banderas. Se destaca el modelo de memoria estratificado de NumPy, que permite ver la misma memoria de diferentes formas sin copiar datos. Se muestran ejemplos de cómo crear vistas en la memoria y cómo transponer o remodelar arrays sin copiar datos.\n",
    "\n",
    "El texto también resalta la importancia de la vectorización en NumPy para mejorar el rendimiento en operaciones numéricas. Se explica que las operaciones vectorizadas en NumPy se implementan en C, lo que resulta en una mejora significativa de la velocidad. Se menciona la transmisión de operaciones entre arrays de formas compatibles y cómo NumPy expande los arrays para que las operaciones sean posibles.\n",
    "\n",
    "Además, se presentan ejemplos de cómo evaluar funciones en arrays, realizar diferencias finitas y crear rejillas utilizando la transmisión. Se destaca la capacidad de NumPy para realizar operaciones \"en el lugar\" y evitar la creación de grandes arrays temporales.\n",
    "\n",
    "En resumen, el texto explica las características y ventajas de los arrays NumPy en Python para cálculos numéricos eficientes, incluyendo la vectorización, la transmisión y la manipulación de la memoria."
   ]
  },
  {
   "cell_type": "code",
   "execution_count": 1,
   "metadata": {},
   "outputs": [],
   "source": [
    "# Your impots here!!!\n",
    "import pandas as pd\n",
    "import numpy as np\n",
    "import matplotlib.pyplot as plt # para maquetar las graficas"
   ]
  },
  {
   "cell_type": "code",
   "execution_count": 32,
   "metadata": {},
   "outputs": [
    {
     "data": {
      "text/plain": [
       "array([[0, 1, 2],\n",
       "       [3, 4, 5],\n",
       "       [6, 7, 8]])"
      ]
     },
     "execution_count": 32,
     "metadata": {},
     "output_type": "execute_result"
    }
   ],
   "source": [
    "x = np.arange(9).reshape((3, 3)) # inicialización de un narray con valores del 0 al 9 dispuesto en 3 filas y 3 columnas\n",
    "x"
   ]
  },
  {
   "cell_type": "code",
   "execution_count": 36,
   "metadata": {},
   "outputs": [
    {
     "data": {
      "text/plain": [
       "array([[0, 2],\n",
       "       [6, 8]])"
      ]
     },
     "execution_count": 36,
     "metadata": {},
     "output_type": "execute_result"
    }
   ],
   "source": [
    "y = x[::2, ::2] # asignación de la matriz x del 0 al final saltando 2 filas y 2 columnas \n",
    "                # utilizan el mismo puntero por lo que no necesitan crear una copia de los datos\n",
    "y "
   ]
  },
  {
   "cell_type": "code",
   "execution_count": 37,
   "metadata": {},
   "outputs": [
    {
     "data": {
      "text/plain": [
       "array([[100,   1,   2],\n",
       "       [  3,   4,   5],\n",
       "       [  6,   7,   8]])"
      ]
     },
     "execution_count": 37,
     "metadata": {},
     "output_type": "execute_result"
    }
   ],
   "source": [
    "y[0, 0] = 100 # al utilizar el mismo puntero, cualquier cambio que se haga en la matriz y tambien se hace en la matriz x\n",
    "x"
   ]
  },
  {
   "cell_type": "code",
   "execution_count": null,
   "metadata": {},
   "outputs": [],
   "source": [
    "# Estos son otros ejemplos que permiten que las operaciones no tengan costo en memoria porque hacen referencia al puntero original\n",
    "xT = x.T # Transpuesta: cambia filas por columnas\n",
    "z = x.reshape((1, 9)) # Redimensionar: Cambiar el tamaño de la matriz\n",
    "z.dtype = np.dtype('uint8') # Cambiar el tipo de entero"
   ]
  },
  {
   "attachments": {},
   "cell_type": "markdown",
   "metadata": {},
   "source": [
    "Las operaciones en NumPy son realizados en C lo que resulta un gran desempeño en el tiempo de ejecución"
   ]
  },
  {
   "cell_type": "code",
   "execution_count": 47,
   "metadata": {},
   "outputs": [
    {
     "name": "stdout",
     "output_type": "stream",
     "text": [
      "CPU times: user 403 ms, sys: 124 ms, total: 527 ms\n",
      "Wall time: 527 ms\n"
     ]
    }
   ],
   "source": [
    "# Tiempo de respuesta de ejecución de un escalar por un array\n",
    "a = list(range(10000000))\n",
    "b = [3*x for x in a]\n",
    "%time b = [3*x for x in a]"
   ]
  },
  {
   "cell_type": "code",
   "execution_count": 52,
   "metadata": {},
   "outputs": [
    {
     "name": "stdout",
     "output_type": "stream",
     "text": [
      "CPU times: user 13 ms, sys: 8.45 ms, total: 21.4 ms\n",
      "Wall time: 21.4 ms\n"
     ]
    }
   ],
   "source": [
    "# Tiempo de respuesta de ejecución de un escalar por un narray\n",
    "a = np.arange(10000000)\n",
    "b = 3 * a\n",
    "%time b = 3 * a"
   ]
  },
  {
   "attachments": {},
   "cell_type": "markdown",
   "metadata": {},
   "source": [
    "Aparace el concepto de Broadcasting que es un método que utiliza NumPy para hacer que operaciones de matrices de diferentes dimensiones puedan ser realizadas. Esto lo logra expandiendo el array mas pequeño.\n",
    "\n",
    "Una matriz unidimensional agregada a una matriz bidimensional da como resultado la transmisión si el número de elementos de matriz de 1-d coincide con el número de columnas de matriz de 2-d."
   ]
  },
  {
   "cell_type": "code",
   "execution_count": 61,
   "metadata": {},
   "outputs": [
    {
     "data": {
      "text/plain": [
       "array([[-1, -2, -3],\n",
       "       [ 2,  1,  0],\n",
       "       [ 5,  4,  3],\n",
       "       [ 8,  7,  6]])"
      ]
     },
     "execution_count": 61,
     "metadata": {},
     "output_type": "execute_result"
    }
   ],
   "source": [
    "m = np.arange(12).reshape((4,3))\n",
    "n = np.array([1, 3, 5]) \n",
    "m - n # duplica la fila del array n para que tome la forma del array m"
   ]
  },
  {
   "attachments": {},
   "cell_type": "markdown",
   "metadata": {},
   "source": [
    "\n",
    "\n",
    "Cuando las dimensiones finales de los arreglos son desiguales, la transmisión falla porque es imposible alinear los valores en las filas del primer arreglo con los elementos del segundo arreglo para la suma elemento por elemento."
   ]
  },
  {
   "cell_type": "code",
   "execution_count": 58,
   "metadata": {},
   "outputs": [
    {
     "ename": "ValueError",
     "evalue": "operands could not be broadcast together with shapes (4,3) (4,) ",
     "output_type": "error",
     "traceback": [
      "\u001b[0;31m---------------------------------------------------------------------------\u001b[0m",
      "\u001b[0;31mValueError\u001b[0m                                Traceback (most recent call last)",
      "\u001b[1;32m/home/guevara/Documentos/Master_git/01MIAR - Python/Tareas/Angel Guevara - 01MAIR_Análisis Crítico Artículos.ipynb Cell 13\u001b[0m in \u001b[0;36m<cell line: 4>\u001b[0;34m()\u001b[0m\n\u001b[1;32m      <a href='vscode-notebook-cell:/home/guevara/Documentos/Master_git/01MIAR%20-%20Python/Tareas/Angel%20Guevara%20-%2001MAIR_An%C3%A1lisis%20Cr%C3%ADtico%20Art%C3%ADculos.ipynb#X36sZmlsZQ%3D%3D?line=0'>1</a>\u001b[0m m \u001b[39m=\u001b[39m np\u001b[39m.\u001b[39marange(\u001b[39m12\u001b[39m)\u001b[39m.\u001b[39mreshape((\u001b[39m4\u001b[39m,\u001b[39m3\u001b[39m))\n\u001b[1;32m      <a href='vscode-notebook-cell:/home/guevara/Documentos/Master_git/01MIAR%20-%20Python/Tareas/Angel%20Guevara%20-%2001MAIR_An%C3%A1lisis%20Cr%C3%ADtico%20Art%C3%ADculos.ipynb#X36sZmlsZQ%3D%3D?line=1'>2</a>\u001b[0m n \u001b[39m=\u001b[39m np\u001b[39m.\u001b[39marray([\u001b[39m1\u001b[39m, \u001b[39m3\u001b[39m, \u001b[39m5\u001b[39m, \u001b[39m6\u001b[39m]) \n\u001b[0;32m----> <a href='vscode-notebook-cell:/home/guevara/Documentos/Master_git/01MIAR%20-%20Python/Tareas/Angel%20Guevara%20-%2001MAIR_An%C3%A1lisis%20Cr%C3%ADtico%20Art%C3%ADculos.ipynb#X36sZmlsZQ%3D%3D?line=3'>4</a>\u001b[0m m \u001b[39m-\u001b[39;49m n\n",
      "\u001b[0;31mValueError\u001b[0m: operands could not be broadcast together with shapes (4,3) (4,) "
     ]
    }
   ],
   "source": [
    "m = np.arange(12).reshape((4,3))\n",
    "n = np.array([1, 3, 5, 6]) \n",
    "\n",
    "m + n # duplica la fila del array n para que tome la forma del array m"
   ]
  },
  {
   "attachments": {},
   "cell_type": "markdown",
   "metadata": {},
   "source": [
    "En algunos casos, la transmisión amplía ambos arreglos para formar un arreglo de salida más grande que cualquiera de los arreglos iniciales."
   ]
  },
  {
   "cell_type": "code",
   "execution_count": 69,
   "metadata": {},
   "outputs": [
    {
     "data": {
      "text/plain": [
       "array([[ 1.,  2.,  3.],\n",
       "       [11., 12., 13.],\n",
       "       [21., 22., 23.],\n",
       "       [31., 32., 33.]])"
      ]
     },
     "execution_count": 69,
     "metadata": {},
     "output_type": "execute_result"
    }
   ],
   "source": [
    "a = np.array([[0.0, 10.0, 20.0, 30.0]])\n",
    "b = np.array([1.0, 2.0, 3.0])\n",
    "a.T + b"
   ]
  },
  {
   "attachments": {},
   "cell_type": "markdown",
   "metadata": {},
   "source": [
    "Manejo de grandes cantidades de datos\n",
    "Usando un loop for para guardar un resultado como array vs enviar el narray directamente a la función\n"
   ]
  },
  {
   "cell_type": "code",
   "execution_count": 78,
   "metadata": {},
   "outputs": [
    {
     "name": "stdout",
     "output_type": "stream",
     "text": [
      "CPU times: user 59 ms, sys: 0 ns, total: 59 ms\n",
      "Wall time: 89.2 ms\n"
     ]
    }
   ],
   "source": [
    "def f(x):\n",
    "    return x**2 - 3*x + 4 \n",
    "x = np.arange(1e5) \n",
    "%time y = [f(i) for i in x] \n"
   ]
  },
  {
   "cell_type": "code",
   "execution_count": 83,
   "metadata": {},
   "outputs": [
    {
     "name": "stdout",
     "output_type": "stream",
     "text": [
      "CPU times: user 592 µs, sys: 2.66 ms, total: 3.25 ms\n",
      "Wall time: 1.83 ms\n"
     ]
    }
   ],
   "source": [
    "%time y = f(x)"
   ]
  },
  {
   "attachments": {},
   "cell_type": "markdown",
   "metadata": {},
   "source": [
    "## 01\n",
    "Carga de datos de csv (estaciones_bici.csv) en un DataFrame y exploración de datos\n",
    "> Nota: los datos y la libreta de jupyter tienen que estar en la misma carpeta\n"
   ]
  },
  {
   "cell_type": "code",
   "execution_count": 3,
   "metadata": {},
   "outputs": [
    {
     "name": "stdout",
     "output_type": "stream",
     "text": [
      "download\n"
     ]
    }
   ],
   "source": [
    "con = sqlite3.connect('valenbisi.db')\n",
    "\n",
    "cursor = con.cursor()\n",
    "cursor.execute(\"SELECT name FROM sqlite_master WHERE type='table';\")\n",
    "name_table = cursor.fetchall()[0][0]\n",
    "print(name_table)\n",
    "\n",
    "# Modifico la sentencia SQL para traer solo los campos con los que se va a trabajar para mejorar el rendimiento del programa\n",
    "df = pd.read_sql_query(f\"SELECT number, total, updated, available FROM {name_table}\", con)\n",
    "con.close()"
   ]
  },
  {
   "cell_type": "code",
   "execution_count": 13,
   "metadata": {},
   "outputs": [
    {
     "data": {
      "text/html": [
       "<div>\n",
       "<style scoped>\n",
       "    .dataframe tbody tr th:only-of-type {\n",
       "        vertical-align: middle;\n",
       "    }\n",
       "\n",
       "    .dataframe tbody tr th {\n",
       "        vertical-align: top;\n",
       "    }\n",
       "\n",
       "    .dataframe thead th {\n",
       "        text-align: right;\n",
       "    }\n",
       "</style>\n",
       "<table border=\"1\" class=\"dataframe\">\n",
       "  <thead>\n",
       "    <tr style=\"text-align: right;\">\n",
       "      <th></th>\n",
       "      <th>number</th>\n",
       "      <th>total</th>\n",
       "      <th>updated</th>\n",
       "      <th>available</th>\n",
       "    </tr>\n",
       "  </thead>\n",
       "  <tbody>\n",
       "    <tr>\n",
       "      <th>0</th>\n",
       "      <td>39</td>\n",
       "      <td>19</td>\n",
       "      <td>2023-05-04 16:20:06</td>\n",
       "      <td>5</td>\n",
       "    </tr>\n",
       "    <tr>\n",
       "      <th>1</th>\n",
       "      <td>46</td>\n",
       "      <td>20</td>\n",
       "      <td>2023-05-04 16:20:06</td>\n",
       "      <td>4</td>\n",
       "    </tr>\n",
       "    <tr>\n",
       "      <th>2</th>\n",
       "      <td>13</td>\n",
       "      <td>24</td>\n",
       "      <td>2023-05-04 16:20:06</td>\n",
       "      <td>15</td>\n",
       "    </tr>\n",
       "    <tr>\n",
       "      <th>3</th>\n",
       "      <td>22</td>\n",
       "      <td>15</td>\n",
       "      <td>2023-05-04 16:20:06</td>\n",
       "      <td>4</td>\n",
       "    </tr>\n",
       "    <tr>\n",
       "      <th>4</th>\n",
       "      <td>24</td>\n",
       "      <td>20</td>\n",
       "      <td>2023-05-04 16:20:06</td>\n",
       "      <td>7</td>\n",
       "    </tr>\n",
       "    <tr>\n",
       "      <th>...</th>\n",
       "      <td>...</td>\n",
       "      <td>...</td>\n",
       "      <td>...</td>\n",
       "      <td>...</td>\n",
       "    </tr>\n",
       "    <tr>\n",
       "      <th>222175</th>\n",
       "      <td>249</td>\n",
       "      <td>15</td>\n",
       "      <td>2023-05-10 16:00:07</td>\n",
       "      <td>5</td>\n",
       "    </tr>\n",
       "    <tr>\n",
       "      <th>222176</th>\n",
       "      <td>257</td>\n",
       "      <td>20</td>\n",
       "      <td>2023-05-10 16:00:07</td>\n",
       "      <td>7</td>\n",
       "    </tr>\n",
       "    <tr>\n",
       "      <th>222177</th>\n",
       "      <td>259</td>\n",
       "      <td>20</td>\n",
       "      <td>2023-05-10 16:00:07</td>\n",
       "      <td>17</td>\n",
       "    </tr>\n",
       "    <tr>\n",
       "      <th>222178</th>\n",
       "      <td>266</td>\n",
       "      <td>18</td>\n",
       "      <td>2023-05-10 16:00:07</td>\n",
       "      <td>6</td>\n",
       "    </tr>\n",
       "    <tr>\n",
       "      <th>222179</th>\n",
       "      <td>272</td>\n",
       "      <td>15</td>\n",
       "      <td>2023-05-10 16:00:07</td>\n",
       "      <td>4</td>\n",
       "    </tr>\n",
       "  </tbody>\n",
       "</table>\n",
       "<p>222180 rows × 4 columns</p>\n",
       "</div>"
      ],
      "text/plain": [
       "        number  total              updated  available\n",
       "0           39     19  2023-05-04 16:20:06          5\n",
       "1           46     20  2023-05-04 16:20:06          4\n",
       "2           13     24  2023-05-04 16:20:06         15\n",
       "3           22     15  2023-05-04 16:20:06          4\n",
       "4           24     20  2023-05-04 16:20:06          7\n",
       "...        ...    ...                  ...        ...\n",
       "222175     249     15  2023-05-10 16:00:07          5\n",
       "222176     257     20  2023-05-10 16:00:07          7\n",
       "222177     259     20  2023-05-10 16:00:07         17\n",
       "222178     266     18  2023-05-10 16:00:07          6\n",
       "222179     272     15  2023-05-10 16:00:07          4\n",
       "\n",
       "[222180 rows x 4 columns]"
      ]
     },
     "metadata": {},
     "output_type": "display_data"
    }
   ],
   "source": [
    "# Your answer here!!!\n",
    "display(df) # muestro los datos\n",
    "#frame_base = df.loc[:, ['number', 'total', 'updated', 'available']]\n",
    "#display(frame_base)\n"
   ]
  },
  {
   "attachments": {},
   "cell_type": "markdown",
   "metadata": {},
   "source": [
    "## 02\n",
    "Obtención del número de estaciones que tienen un total de 30 bornetas\n",
    "¿Qué estaciones son?"
   ]
  },
  {
   "cell_type": "code",
   "execution_count": 4,
   "metadata": {},
   "outputs": [
    {
     "name": "stdout",
     "output_type": "stream",
     "text": [
      "Hay 8855 estaciones con 30 bornetas\n"
     ]
    }
   ],
   "source": [
    "# Your answer here!!!\n",
    "estaciones = df[df['total'] == 30] # filtro de estaciones con 30 bornetas\n",
    "print(f\"Hay {len(estaciones)} estaciones con 30 bornetas\") # cuento las estaciones"
   ]
  },
  {
   "cell_type": "code",
   "execution_count": 48,
   "metadata": {},
   "outputs": [
    {
     "name": "stdout",
     "output_type": "stream",
     "text": [
      "Estas son las estaciones con 30 bornetas\n",
      "[ 17  89 117 ... 189 110  89]\n"
     ]
    }
   ],
   "source": [
    "estaciones_list = np.array(estaciones['number']) #extraigo los numeros de las estaciones en formato lista\n",
    "print(\"Estas son las estaciones con 30 bornetas\")\n",
    "print(estaciones_list)"
   ]
  },
  {
   "attachments": {},
   "cell_type": "markdown",
   "metadata": {},
   "source": [
    "## 03\n",
    "Número de estación con la media más alta de bicis disponibles"
   ]
  },
  {
   "cell_type": "code",
   "execution_count": 21,
   "metadata": {},
   "outputs": [
    {
     "name": "stdout",
     "output_type": "stream",
     "text": [
      "Los promedios de bicicletas desponibles por cada estación son los siguientes\n"
     ]
    },
    {
     "data": {
      "text/plain": [
       "number\n",
       "1       4.175155\n",
       "2       7.286957\n",
       "3       4.822360\n",
       "4       5.140373\n",
       "5       5.036025\n",
       "         ...    \n",
       "272    11.763975\n",
       "273    13.212422\n",
       "274    12.566460\n",
       "275    12.575155\n",
       "276    10.204969\n",
       "Name: available, Length: 276, dtype: float64"
      ]
     },
     "metadata": {},
     "output_type": "display_data"
    }
   ],
   "source": [
    "# Your answer here!!!\n",
    "serie_promedios = df.groupby('number')['available'].mean() # calculo de promedio de cada estación\n",
    "print(\"Los promedios de bicicletas desponibles por cada estación son los siguientes\")\n",
    "display(serie_promedios)"
   ]
  },
  {
   "cell_type": "code",
   "execution_count": 30,
   "metadata": {},
   "outputs": [
    {
     "name": "stdout",
     "output_type": "stream",
     "text": [
      "La estación 101 tiene la media más alta con 22.859627329192545 de promedio\n"
     ]
    }
   ],
   "source": [
    "indx_max_prom = serie_promedios.idxmax() # calculo el indice con el promedio más alto\n",
    "promedio = serie_promedios.loc[indx_max_prom]\n",
    "print(f\"La estación {indx_max_prom} tiene la media más alta con {promedio} de promedio\")"
   ]
  },
  {
   "attachments": {},
   "cell_type": "markdown",
   "metadata": {},
   "source": [
    "## 04\n",
    "Realizar el histograma de bicis disponibles de la estación del punto anterior"
   ]
  },
  {
   "cell_type": "code",
   "execution_count": 15,
   "metadata": {},
   "outputs": [
    {
     "data": {
      "image/png": "[encoded data removed]",
      "text/plain": [
       "<Figure size 640x480 with 1 Axes>"
      ]
     },
     "metadata": {},
     "output_type": "display_data"
    }
   ],
   "source": [
    "# Your answer here!!!\n",
    "filtro_df = df[df['number'] == indx_max_prom]    # extraigo las filas correspondientes a la \n",
    "                                                # estación con el promedio más alto de bicicletsa disponibles\n",
    "filtro_df['available'].hist() # creo un histograma\n",
    "\n",
    "# personalizo el histograma\n",
    "plt.xlabel('Bicicletas Disponibles')\n",
    "plt.ylabel('Frecuencia')\n",
    "plt.title(f'Histograma de Bicicletas Disponibles en la Estación {indx_max_prom}')\n",
    "\n",
    "plt.show()"
   ]
  },
  {
   "cell_type": "code",
   "execution_count": 12,
   "metadata": {},
   "outputs": [
    {
     "data": {
      "text/html": [
       "<div>\n",
       "<style scoped>\n",
       "    .dataframe tbody tr th:only-of-type {\n",
       "        vertical-align: middle;\n",
       "    }\n",
       "\n",
       "    .dataframe tbody tr th {\n",
       "        vertical-align: top;\n",
       "    }\n",
       "\n",
       "    .dataframe thead th {\n",
       "        text-align: right;\n",
       "    }\n",
       "</style>\n",
       "<table border=\"1\" class=\"dataframe\">\n",
       "  <thead>\n",
       "    <tr style=\"text-align: right;\">\n",
       "      <th></th>\n",
       "      <th>number</th>\n",
       "      <th>total</th>\n",
       "      <th>updated</th>\n",
       "      <th>available</th>\n",
       "    </tr>\n",
       "  </thead>\n",
       "  <tbody>\n",
       "    <tr>\n",
       "      <th>236</th>\n",
       "      <td>101</td>\n",
       "      <td>30</td>\n",
       "      <td>2023-05-04 16:20:06</td>\n",
       "      <td>13</td>\n",
       "    </tr>\n",
       "    <tr>\n",
       "      <th>433</th>\n",
       "      <td>101</td>\n",
       "      <td>30</td>\n",
       "      <td>2023-05-04 16:29:13</td>\n",
       "      <td>15</td>\n",
       "    </tr>\n",
       "    <tr>\n",
       "      <th>708</th>\n",
       "      <td>101</td>\n",
       "      <td>30</td>\n",
       "      <td>2023-05-04 16:39:47</td>\n",
       "      <td>16</td>\n",
       "    </tr>\n",
       "    <tr>\n",
       "      <th>1072</th>\n",
       "      <td>101</td>\n",
       "      <td>30</td>\n",
       "      <td>2023-05-04 16:49:55</td>\n",
       "      <td>15</td>\n",
       "    </tr>\n",
       "    <tr>\n",
       "      <th>1269</th>\n",
       "      <td>101</td>\n",
       "      <td>30</td>\n",
       "      <td>2023-05-04 17:00:06</td>\n",
       "      <td>16</td>\n",
       "    </tr>\n",
       "    <tr>\n",
       "      <th>...</th>\n",
       "      <td>...</td>\n",
       "      <td>...</td>\n",
       "      <td>...</td>\n",
       "      <td>...</td>\n",
       "    </tr>\n",
       "    <tr>\n",
       "      <th>221044</th>\n",
       "      <td>101</td>\n",
       "      <td>30</td>\n",
       "      <td>2023-05-10 11:59:34</td>\n",
       "      <td>2</td>\n",
       "    </tr>\n",
       "    <tr>\n",
       "      <th>221142</th>\n",
       "      <td>101</td>\n",
       "      <td>30</td>\n",
       "      <td>2023-05-10 12:59:27</td>\n",
       "      <td>1</td>\n",
       "    </tr>\n",
       "    <tr>\n",
       "      <th>221521</th>\n",
       "      <td>101</td>\n",
       "      <td>30</td>\n",
       "      <td>2023-05-10 13:59:22</td>\n",
       "      <td>3</td>\n",
       "    </tr>\n",
       "    <tr>\n",
       "      <th>221776</th>\n",
       "      <td>101</td>\n",
       "      <td>30</td>\n",
       "      <td>2023-05-10 15:00:15</td>\n",
       "      <td>7</td>\n",
       "    </tr>\n",
       "    <tr>\n",
       "      <th>221958</th>\n",
       "      <td>101</td>\n",
       "      <td>30</td>\n",
       "      <td>2023-05-10 16:00:07</td>\n",
       "      <td>3</td>\n",
       "    </tr>\n",
       "  </tbody>\n",
       "</table>\n",
       "<p>805 rows × 4 columns</p>\n",
       "</div>"
      ],
      "text/plain": [
       "        number  total              updated  available\n",
       "236        101     30  2023-05-04 16:20:06         13\n",
       "433        101     30  2023-05-04 16:29:13         15\n",
       "708        101     30  2023-05-04 16:39:47         16\n",
       "1072       101     30  2023-05-04 16:49:55         15\n",
       "1269       101     30  2023-05-04 17:00:06         16\n",
       "...        ...    ...                  ...        ...\n",
       "221044     101     30  2023-05-10 11:59:34          2\n",
       "221142     101     30  2023-05-10 12:59:27          1\n",
       "221521     101     30  2023-05-10 13:59:22          3\n",
       "221776     101     30  2023-05-10 15:00:15          7\n",
       "221958     101     30  2023-05-10 16:00:07          3\n",
       "\n",
       "[805 rows x 4 columns]"
      ]
     },
     "metadata": {},
     "output_type": "display_data"
    }
   ],
   "source": [
    "display(filtro_df)"
   ]
  },
  {
   "attachments": {},
   "cell_type": "markdown",
   "metadata": {},
   "source": [
    "## 05\n",
    "Realizar gráfica con  la línea temporal de bicis disponibles de la estación del punto anterior. Pista, es necesario cambiar el índice a uno tipo fecha"
   ]
  },
  {
   "cell_type": "code",
   "execution_count": 16,
   "metadata": {},
   "outputs": [
    {
     "name": "stderr",
     "output_type": "stream",
     "text": [
      "C:\\Users\\Mauricio\\AppData\\Local\\Temp\\ipykernel_16628\\512947183.py:2: SettingWithCopyWarning: \n",
      "A value is trying to be set on a copy of a slice from a DataFrame.\n",
      "Try using .loc[row_indexer,col_indexer] = value instead\n",
      "\n",
      "See the caveats in the documentation: https://pandas.pydata.org/pandas-docs/stable/user_guide/indexing.html#returning-a-view-versus-a-copy\n",
      "  filtro_df['updated'] = pd.to_datetime(filtro_df['updated']) #cambio el tipo de dato a fecha al campo update\n"
     ]
    },
    {
     "data": {
      "image/png": "[encoded data removed]",
      "text/plain": [
       "<Figure size 640x480 with 1 Axes>"
      ]
     },
     "metadata": {},
     "output_type": "display_data"
    }
   ],
   "source": [
    "# Your answer here!!!\n",
    "filtro_df['updated'] = pd.to_datetime(filtro_df['updated']) #cambio el tipo de dato a fecha al campo update\n",
    "filtro_df.set_index('updated', inplace=True) # selecciono al campo update como índice\n",
    "filtro_df['available'].plot()\n",
    "\n",
    "# personalizo la gráfica\n",
    "plt.xlabel('Fecha')\n",
    "plt.ylabel('Bicicletas Disponibles')\n",
    "plt.title(f'Línea Temporal de Bicicletas Disponibles en la Estación {indx_max_prom}')\n",
    "\n",
    "plt.show()\n"
   ]
  }
 ],
 "metadata": {
  "kernelspec": {
   "display_name": "Python 3 (ipykernel)",
   "language": "python",
   "name": "python3"
  },
  "language_info": {
   "codemirror_mode": {
    "name": "ipython",
    "version": 3
   },
   "file_extension": ".py",
   "mimetype": "text/x-python",
   "name": "python",
   "nbconvert_exporter": "python",
   "pygments_lexer": "ipython3",
   "version": "3.9.12"
  }
 },
 "nbformat": 4,
 "nbformat_minor": 4
}
